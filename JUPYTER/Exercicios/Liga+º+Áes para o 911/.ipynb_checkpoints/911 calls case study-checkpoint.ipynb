{
 "cells": [
  {
   "cell_type": "markdown",
   "metadata": {
    "_uuid": "fc7dfa986b2fec6bc5d6607fbc40ef61e4181c3c",
    "slideshow": {
     "slide_type": "slide"
    }
   },
   "source": [
    "<p>&nbsp;</p>\n",
    "</p><h1 style=\"text-align: center;\"><strong>Emergency 911 Calls - Montgomery County, PA</strong></h1>\n",
    "<h1 style=\"text-align: center;\"><strong>Case Study</strong></h1>\n",
    "<p>&nbsp;</p><p>&nbsp;</p><p>&nbsp;</p>"
   ]
  },
  {
   "cell_type": "code",
   "execution_count": null,
   "metadata": {
    "_uuid": "ac493c86ffd1dc72acf2b7f4139b95b7abd9870c",
    "slideshow": {
     "slide_type": "skip"
    }
   },
   "outputs": [],
   "source": [
    "#Realizing Imports\n",
    "\n",
    "%matplotlib inline\n",
    "import pandas as pd\n",
    "import numpy as np\n",
    "import calendar\n",
    "import matplotlib\n",
    "import matplotlib.pyplot as plt\n",
    "import seaborn as sns\n",
    "import folium\n",
    "import plotly.plotly as py\n",
    "import plotly.graph_objs as go\n",
    "\n",
    "from mpl_toolkits.mplot3d import Axes3D\n",
    "from sklearn.preprocessing import StandardScaler\n",
    "from matplotlib import colors\n",
    "from matplotlib.font_manager import FontProperties\n",
    "from folium.plugins import HeatMap\n",
    "from plotly.offline import download_plotlyjs, init_notebook_mode, plot, iplot\n",
    "\n",
    "sns.set_style('darkgrid')\n",
    "init_notebook_mode(connected=True)"
   ]
  },
  {
   "cell_type": "code",
   "execution_count": null,
   "metadata": {
    "_uuid": "2ecfc64980ec54a4e9f304f41f4d6bf430ace573",
    "slideshow": {
     "slide_type": "skip"
    }
   },
   "outputs": [],
   "source": [
    "#Reading Dataset\n",
    "\n",
    "df = pd.read_csv('../input/911.csv', ',')"
   ]
  },
  {
   "cell_type": "code",
   "execution_count": null,
   "metadata": {
    "_uuid": "8ff4f2dfd1b364cf37b300db9d90866d0317f192",
    "slideshow": {
     "slide_type": "skip"
    }
   },
   "outputs": [],
   "source": [
    "#Creating variable Reason\n",
    "\n",
    "df['Type'] = df['title'].apply(lambda s:s.split(':')[0])\n",
    "df['Reason'] = df['title'].apply(lambda s:s.split(':')[1])"
   ]
  },
  {
   "cell_type": "code",
   "execution_count": null,
   "metadata": {
    "_uuid": "b99bfb84e4cac7002ac26af1328b5422cc946e3d",
    "slideshow": {
     "slide_type": "skip"
    }
   },
   "outputs": [],
   "source": [
    "#Classification of Variables\n",
    "\n",
    "table = [[\"Type\",\"Qualitative Nominal\"],[\"Reason\",\"Qualitative Nominal\"],[\"Week\",\"Qualitative Nominal\"],\n",
    "            [\"Week_Abbr\",\"Qualitative Nominal\"],[\"Month\",\"Discrete Quantitative\"],[\"Month_Abbr\",\"Discrete Quantitative\"],\n",
    "            [\"Year\",\"Discrete Quantitative\"],[\"Hour\",\"Discrete Quantitative\"],[\"timeStamp\",\"Qualitative Ordinal\"],\n",
    "            [\"Day\",\"Qualitative Ordinal\"],[\"Date\",\"Discrete Quantitative\"],[\"day/night\",\"Qualitative Nominal\"]]\n",
    "\n",
    "filing = pd.DataFrame(table, columns=[\"Variable\", \"Classification\"])"
   ]
  },
  {
   "cell_type": "code",
   "execution_count": null,
   "metadata": {
    "_uuid": "775bf8b5b890b01e2b0fb0b1aea1dea0340a7768",
    "slideshow": {
     "slide_type": "skip"
    }
   },
   "outputs": [],
   "source": [
    "filing"
   ]
  },
  {
   "cell_type": "markdown",
   "metadata": {
    "_uuid": "b9e641a8bcb578ac46916e972226bf255451c4c5",
    "slideshow": {
     "slide_type": "skip"
    }
   },
   "source": [
    "## Getting Started in Dataset"
   ]
  },
  {
   "cell_type": "code",
   "execution_count": null,
   "metadata": {
    "_uuid": "bda7f40f0bf10e229711e49a8130ab252ee19efe",
    "slideshow": {
     "slide_type": "skip"
    }
   },
   "outputs": [],
   "source": [
    "#Creating lists with the Names of the Week and the Months\n",
    "\n",
    "wday = ['Monday','Tuesday','Wednesday','Thursday','Friday','Saturday','Sunday']\n",
    "months = ['','January','February','March','April','May','June','July','August','September','October','November','December']"
   ]
  },
  {
   "cell_type": "code",
   "execution_count": null,
   "metadata": {
    "_uuid": "7e63b9f457f16a9f7b24867aa2e943c5bdd536d2",
    "slideshow": {
     "slide_type": "skip"
    }
   },
   "outputs": [],
   "source": [
    "#Converting to datetime and creating hour / hour, day / day, month / month, year / year, week / week\n",
    "\n",
    "df['timeStamp'] = pd.to_datetime(df['timeStamp'])\n",
    "df['Hour'] = df['timeStamp'].apply(lambda x: x.hour)\n",
    "df['Day'] = df['timeStamp'].apply(lambda x: x.day)\n",
    "df['Month'] = df['timeStamp'].apply(lambda x: x.month)\n",
    "df['Month_Abbr'] = df['timeStamp'].apply(lambda x: months[x.month])\n",
    "df['Year'] = df['timeStamp'].apply(lambda x: x.year)\n",
    "df['Week'] = df['timeStamp'].apply(lambda x: x.weekday())\n",
    "df['Week_Abbr'] = df['timeStamp'].apply(lambda x: wday[x.weekday()])\n",
    "df['Date']=df['timeStamp'].apply(lambda x:x.date())\n",
    "df[\"day/night\"] = df[\"timeStamp\"].apply(lambda x : \"night\" if int(x.strftime(\"%H\")) > 19 else \"day\")"
   ]
  },
  {
   "cell_type": "markdown",
   "metadata": {
    "_uuid": "1032a159f3540acb0607d9cfb2caf2c896e250b5",
    "slideshow": {
     "slide_type": "slide"
    }
   },
   "source": [
    "<p>&nbsp;</p>\n",
    "<h1 style=\"text-align: center;\"><span style=\"color: #0000ff;\"><strong>PART&nbsp;<span lang=\"pt\">II</span></strong></span></h1>\n",
    "<h1 style=\"text-align: center;\"><span style=\"color: #0000ff;\"><strong><span lang=\"pt\">Exploratory Initial Analysis of Data</span></strong></span></h1>\n",
    "<p>&nbsp;</p><p>&nbsp;</p><p>&nbsp;</p>"
   ]
  },
  {
   "cell_type": "markdown",
   "metadata": {
    "_uuid": "a41939acdbffab7ef4d1d2cda29cf94343414b42",
    "slideshow": {
     "slide_type": "slide"
    }
   },
   "source": [
    "# Study of 2016 Records by Reason: EMS, Fire, Traffic"
   ]
  },
  {
   "cell_type": "code",
   "execution_count": null,
   "metadata": {
    "_uuid": "865b0fefe84903ff20af1e62bb6e08ae33bd0f5f",
    "slideshow": {
     "slide_type": "subslide"
    }
   },
   "outputs": [],
   "source": [
    "sns.set_context(\"paper\", font_scale = 2)\n",
    "sns.countplot(x= \"Year\", data= df[df['Year'] == 2016], palette=\"viridis\", hue = \"Type\")\n",
    "plt.title(\"Records of the Events of 2016\")\n",
    "plt.legend(bbox_to_anchor=(1.05, 1), loc=2, borderaxespad=0.)"
   ]
  },
  {
   "cell_type": "code",
   "execution_count": null,
   "metadata": {
    "_uuid": "190b898c782bc2971b61c831ad3e2d06bb5f0ce0",
    "slideshow": {
     "slide_type": "subslide"
    }
   },
   "outputs": [],
   "source": [
    "sns.set_context(\"paper\", font_scale = 2)\n",
    "sns.countplot(x= \"Month_Abbr\", data= df[df['Year'] == 2016], palette=\"viridis\", hue= \"Type\")\n",
    "plt.title(\"Monthly records of occurrences of 2016\")\n",
    "plt.xticks(rotation=45)\n",
    "plt.legend(bbox_to_anchor=(1.05, 1), loc=2, borderaxespad=0.)"
   ]
  },
  {
   "cell_type": "code",
   "execution_count": null,
   "metadata": {
    "_uuid": "690e9af4236feedd0f6a7c5afee72de2b2f0b4ba",
    "slideshow": {
     "slide_type": "subslide"
    }
   },
   "outputs": [],
   "source": [
    "sns.set_context(\"paper\", font_scale = 2)\n",
    "sns.countplot(x= \"Week_Abbr\", data= df[df['Year'] == 2016], palette=\"viridis\", hue= \"Type\" )     \n",
    "plt.title(\"Weekly records of the occurrences of 2016\")\n",
    "plt.xticks(rotation=45)\n",
    "plt.legend(bbox_to_anchor=(1.05, 1), loc=2, borderaxespad=0.)"
   ]
  },
  {
   "cell_type": "markdown",
   "metadata": {
    "_uuid": "32ab499e454ebf70975da0bf2e22f6d3eb44e912",
    "slideshow": {
     "slide_type": "slide"
    }
   },
   "source": [
    "# What are the occurrences by Schedules"
   ]
  },
  {
   "cell_type": "code",
   "execution_count": null,
   "metadata": {
    "_uuid": "6e69a58a62f177a73e83040448e80456a1644780",
    "slideshow": {
     "slide_type": "skip"
    }
   },
   "outputs": [],
   "source": [
    "def timeZone(timestamp):\n",
    "    hour = timestamp.hour\n",
    "    if (hour > 6 and hour < 12) or hour == 6:\n",
    "        return 'Morning'\n",
    "    elif hour == 12:\n",
    "        return 'Noon'\n",
    "    elif hour > 12 and hour < 17:\n",
    "        return 'Afternoon'\n",
    "    elif (hour > 17 and hour < 21) or hour == 17:\n",
    "        return 'Evening'\n",
    "    elif (hour > 21 and hour < 6) or hour == 21:\n",
    "        return 'Night'"
   ]
  },
  {
   "cell_type": "code",
   "execution_count": null,
   "metadata": {
    "_uuid": "0e9c7d406564ffd6fff6153d9ed9ee9a0bbc21a6",
    "slideshow": {
     "slide_type": "skip"
    }
   },
   "outputs": [],
   "source": [
    "df['timezone'] = df['timeStamp'].apply(lambda x : timeZone(x))  "
   ]
  },
  {
   "cell_type": "code",
   "execution_count": null,
   "metadata": {
    "_uuid": "0feafa3d30f231de03fbb03aa2c07dd33d02cfdd",
    "slideshow": {
     "slide_type": "skip"
    }
   },
   "outputs": [],
   "source": [
    "sns.countplot('timezone', data = df[df['Year'] == 2016],palette=\"viridis\", hue= \"Type\" )\n",
    "plt.legend(bbox_to_anchor=(1.05, 1), loc=2, borderaxespad=0.)\n",
    "plt.title(\"Occurrences Records by Schedules\")\n",
    "plt.xticks(rotation=45)"
   ]
  },
  {
   "cell_type": "markdown",
   "metadata": {
    "_uuid": "1d9dc95dce4044461f51ee42757ee7ffc21964dc",
    "slideshow": {
     "slide_type": "slide"
    }
   },
   "source": [
    "# Number of Occurrences per Reason"
   ]
  },
  {
   "cell_type": "code",
   "execution_count": null,
   "metadata": {
    "_uuid": "a92d259bbd86091842f3150a452cf2ee231e8ccf",
    "slideshow": {
     "slide_type": "subslide"
    }
   },
   "outputs": [],
   "source": [
    "df[(df['Type']=='EMS') & (df['Year'] == 2016)].groupby('Date').count()['twp'].plot(figsize=(15,3),label='EMS')\n",
    "df[(df['Type']=='Fire') & (df['Year'] == 2016)].groupby('Date').count()['twp'].plot(figsize=(15,3),label='Fire')\n",
    "df[(df['Type']=='Traffic') & (df['Year'] == 2016)].groupby('Date').count()['twp'].plot(figsize=(15,3),label='Traffic')\n",
    "plt.title(\"Let's check the distribution of the different reasons\")\n",
    "plt.legend(bbox_to_anchor=(1.05, 1), loc=2, borderaxespad=0.)\n",
    "plt.tight_layout()"
   ]
  },
  {
   "cell_type": "markdown",
   "metadata": {
    "_uuid": "ebee9ddfdbe8bc86e4505f2195cc6549415219df",
    "slideshow": {
     "slide_type": "slide"
    }
   },
   "source": [
    "# Histogram"
   ]
  },
  {
   "cell_type": "code",
   "execution_count": null,
   "metadata": {
    "_uuid": "7d4f2b520dfef8099e3bea4530e4198cdc8994c2",
    "slideshow": {
     "slide_type": "subslide"
    }
   },
   "outputs": [],
   "source": [
    "v0 = df[(df['title']=='Traffic: VEHICLE ACCIDENT -')].Hour.values\n",
    "data = [go.Histogram(x=v0,histnorm='probability')]\n",
    "\n",
    "layout = dict(title='Traffic: VEHICLE ACCIDENT (hr)',\n",
    "            autosize= True,bargap= 0.015,height= 400,width= 500,hovermode= 'x',xaxis=dict(autorange= True,zeroline= False),\n",
    "            yaxis= dict(autorange= True,showticklabels= True,))\n",
    "\n",
    "fig1 = dict(data=data, layout=layout)\n",
    "iplot(fig1)"
   ]
  },
  {
   "cell_type": "code",
   "execution_count": null,
   "metadata": {
    "_uuid": "dd4f4b428bff91d34c4fe28390a32cf997aceb53"
   },
   "outputs": [],
   "source": [
    "v0 = df['timezone'].values\n",
    "data = [go.Histogram(x=v0,histnorm='probability')]\n",
    "\n",
    "layout = dict(title='Traffic: VEHICLE ACCIDENT (hr)',\n",
    "            autosize= True,bargap= 0.015,height= 400,width= 500,hovermode= 'x',xaxis=dict(autorange= True,zeroline= False),\n",
    "            yaxis= dict(autorange= True,showticklabels= True,))\n",
    "\n",
    "fig1 = dict(data=data, layout=layout)\n",
    "iplot(fig1)"
   ]
  },
  {
   "cell_type": "markdown",
   "metadata": {
    "_uuid": "cfff7494104de0592d1e7342a6b3e1d88534c8e0",
    "slideshow": {
     "slide_type": "slide"
    }
   },
   "source": [
    "# DISPERSION OF TRAFFIC OCCURRENCES"
   ]
  },
  {
   "cell_type": "code",
   "execution_count": null,
   "metadata": {
    "_uuid": "ad57a50e84d069441fa4199c78ebde21eb377f26",
    "scrolled": true,
    "slideshow": {
     "slide_type": "skip"
    }
   },
   "outputs": [],
   "source": [
    "W1 = df[(df['Type'] == 'Traffic') & (df['Week'] == 0)].groupby(['Hour']).size().reset_index(name='Qty')\n",
    "W2 = df[(df['Type'] == 'Traffic') & (df['Week'] == 1)].groupby(['Hour']).size().reset_index(name='Qty')\n",
    "W3 = df[(df['Type'] == 'Traffic') & (df['Week'] == 2)].groupby(['Hour']).size().reset_index(name='Qty')\n",
    "W4 = df[(df['Type'] == 'Traffic') & (df['Week'] == 3)].groupby(['Hour']).size().reset_index(name='Qty')\n",
    "W5 = df[(df['Type'] == 'Traffic') & (df['Week'] == 4)].groupby(['Hour']).size().reset_index(name='Qty')\n",
    "W6 = df[(df['Type'] == 'Traffic') & (df['Week'] == 5)].groupby(['Hour']).size().reset_index(name='Qty')\n",
    "W7 = df[(df['Type'] == 'Traffic') & (df['Week'] == 6)].groupby(['Hour']).size().reset_index(name='Qty')"
   ]
  },
  {
   "cell_type": "code",
   "execution_count": null,
   "metadata": {
    "_uuid": "bbd48f8c30914b98f904c3b1ccd71d7db8d0946a",
    "slideshow": {
     "slide_type": "subslide"
    }
   },
   "outputs": [],
   "source": [
    "# Dispersion\n",
    "fig, ax = plt.subplots(figsize=(16, 10))\n",
    "\n",
    "# Set up the plot\n",
    "ax = plt.subplot(2, 2, 1)\n",
    "\n",
    "ax.scatter(W1['Hour'], W1['Qty'], label=\"Monday\")\n",
    "ax.scatter(W2['Hour'], W2['Qty'], label=\"Tuesday\")\n",
    "ax.scatter(W3['Hour'], W3['Qty'], label=\"Wednesday\")\n",
    "ax.scatter(W4['Hour'], W4['Qty'], label=\"Thursday\")\n",
    "ax.scatter(W5['Hour'], W5['Qty'], label=\"Friday\")\n",
    "ax.scatter(W6['Hour'], W6['Qty'], label=\"Saturday\")\n",
    "ax.scatter(W7['Hour'], W7['Qty'], label=\"Sunday\")\n",
    "ax.legend(loc='best')\n",
    "ax.legend(bbox_to_anchor=(1.25, 1.0))\n",
    "ax.set_xlabel('Timestamp (hour)', fontsize=16,)\n",
    "ax.set_ylabel('Frequency', fontsize=16)\n",
    "ax.set_title('Distribution Day of Week and Types Reason: Traffic', fontsize=12, fontweight='bold')\n",
    "\n",
    "fig.tight_layout(pad=1.5, w_pad=2, h_pad=2.0)"
   ]
  },
  {
   "cell_type": "markdown",
   "metadata": {
    "_uuid": "225d3f133e106d28509525e3ee15b09517db8234",
    "slideshow": {
     "slide_type": "slide"
    }
   },
   "source": [
    "# What are the top 10 counties for Traffic occurrences?"
   ]
  },
  {
   "cell_type": "code",
   "execution_count": null,
   "metadata": {
    "_uuid": "ec077a10eab3af6303e7360c30fab9be1ec1ee6b",
    "slideshow": {
     "slide_type": "skip"
    }
   },
   "outputs": [],
   "source": [
    "top_10_twp=pd.DataFrame(df[(df['Type']=='Traffic') & (df['Year'] == 2016)]['twp'].value_counts().head(10))\n",
    "top_10_twp.reset_index(inplace=True)\n",
    "top_10_twp.columns=['Township','Count']\n",
    "top_10_twp"
   ]
  },
  {
   "cell_type": "code",
   "execution_count": null,
   "metadata": {
    "_uuid": "e2ee461ade8a6739f913e9f44314623117e00f33",
    "slideshow": {
     "slide_type": "subslide"
    }
   },
   "outputs": [],
   "source": [
    "top_10_twp=pd.DataFrame(df[(df['Type']=='Traffic') & (df['Year'] == 2016)]['twp'].value_counts().head(10))\n",
    "top_10_twp.reset_index(inplace=True)\n",
    "top_10_twp.columns=['Township','Count']\n",
    "fig2=plt.figure(figsize=(12,6))\n",
    "g=sns.barplot(data=top_10_twp,x='Township',y='Count',palette=\"viridis\")\n",
    "g.set_xticklabels(g.get_xticklabels(),rotation=45)\n",
    "fig2.tight_layout()"
   ]
  },
  {
   "cell_type": "markdown",
   "metadata": {
    "_uuid": "546d7709e89948ddddae26dad9bb7340ce4e1fba",
    "slideshow": {
     "slide_type": "slide"
    }
   },
   "source": [
    "<p>&nbsp;</p>\n",
    "<h1 style=\"text-align: center;\"><span style=\"color: #0000ff;\"><strong>PART&nbsp;<span lang=\"pt\">III</span></strong></span></h1>\n",
    "<h1 style=\"text-align: center;\"><span style=\"color: #0000ff;\"><strong><span lang=\"pt\">Case Study</span></strong></span></h1>\n",
    "<p>&nbsp;</p><p>&nbsp;</p><p>&nbsp;</p>"
   ]
  },
  {
   "cell_type": "code",
   "execution_count": null,
   "metadata": {
    "_uuid": "12316c83bd5ac56ec809aecd14340a60924f3e0c",
    "slideshow": {
     "slide_type": "subslide"
    }
   },
   "outputs": [],
   "source": [
    "df[(df['Type']=='Traffic') & (df['Year'] == 2016) & (df['Day'] == 23) & (df['Month'] == 1)].groupby('Date').count()['twp']"
   ]
  },
  {
   "cell_type": "code",
   "execution_count": null,
   "metadata": {
    "_uuid": "2fba667b3c5e7933a110986634b51dc2091445e1",
    "slideshow": {
     "slide_type": "subslide"
    }
   },
   "outputs": [],
   "source": [
    "df[(df['Type']=='Traffic') & (df['Year'] == 2016) & (df['Day'] == 23) & (df['Month'] == 1)].groupby('Date')['twp'].value_counts().head(20)"
   ]
  },
  {
   "cell_type": "code",
   "execution_count": null,
   "metadata": {
    "_uuid": "17ca2d320adb9d6c979311e2841381d6ccddcf93",
    "slideshow": {
     "slide_type": "subslide"
    }
   },
   "outputs": [],
   "source": [
    "g = df[(df.Type =='Traffic') & (df['Year'] == 2016) & (df['Day'] == 23) & (df['Month'] == 1)]\n",
    "p=pd.pivot_table(g, values='e', index=['Month_Abbr'] , columns=['Hour'], aggfunc=np.sum)\n",
    "p.head()\n",
    "cmap = sns.cubehelix_palette(light=2, as_cmap=True)\n",
    "ax = sns.heatmap(p,cmap = cmap)\n",
    "ax.set_title('Vehicle  Accidents - 23 January 2016 ');"
   ]
  },
  {
   "cell_type": "markdown",
   "metadata": {
    "_uuid": "8b28ab8d9ddca9597c4aa01ed80b6e89cadbd76c",
    "slideshow": {
     "slide_type": "slide"
    }
   },
   "source": [
    "## Geographical Analysis"
   ]
  },
  {
   "cell_type": "code",
   "execution_count": null,
   "metadata": {
    "_uuid": "db6acb8825c101df7bc6982a905d30dea2de2f4a",
    "scrolled": true,
    "slideshow": {
     "slide_type": "subslide"
    }
   },
   "outputs": [],
   "source": [
    "df_lat_lng=df[(df.Type =='Traffic') & (df['Year'] == 2016) & (df['Day'] == 23) & (df['Month'] == 1)].groupby(['lat','lng'])['lat'].count()\n",
    "df_lat_lng=df_lat_lng.to_frame()\n",
    "df_lat_lng.columns.values[0]='count1'\n",
    "df_lat_lng=df_lat_lng.reset_index()\n",
    "lats=df_lat_lng[['lat','lng','count1']].values.tolist()\n",
    "hmap = folium.Map(location=[40.4, -75.2], zoom_start=9, )\n",
    "hmap.add_child(HeatMap(lats, radius = 5))\n",
    "hmap"
   ]
  },
  {
   "cell_type": "markdown",
   "metadata": {
    "_uuid": "47659595b1ce849f7ee8030bed5a8820b1df2a0e",
    "slideshow": {
     "slide_type": "slide"
    }
   },
   "source": [
    "<p>&nbsp;</p>\n",
    "<h1 style=\"text-align: center;\"><span style=\"color: #0000ff;\"><strong><span lang=\"pt\">CONCLUSION</span></strong></span></h1>\n",
    "<p>&nbsp;</p><p>&nbsp;</p><p>&nbsp;</p>"
   ]
  },
  {
   "cell_type": "markdown",
   "metadata": {
    "_uuid": "841c70f676c39c4f78d2d0fa721493dc7db104be",
    "slideshow": {
     "slide_type": "subslide"
    }
   },
   "source": [
    "In this our exploratory analysis in all occurrences: EMS, FIRE, TRAFFIC, during the period of 2016.\n",
    "\n",
    "Then exploratory data analysis was used to discover some interesting aspects, a fact that caught my attention were the occurrences of January 23, 2016, due to the high accident rate on the present date.\n",
    "\n",
    "This led me to analyze, because of so many occurrences. So I looked up information on Google regarding the weather that day, and we identified that there was a blizzard, and for that reason caused several traffic problems. We noticed that on the other days that there was no snowfall, the occurrence frequency was much lower.\n",
    "\n",
    "Another relevant analysis is the issue of time, with most occurrences starting at 07:00, where it is the time that people go to work / school, and 18:00, Rush hour, end of office hours .\n",
    "\n",
    "When accessing the site: [January 2016 Weather in Philadelphia — Graph](https://www.timeanddate.com/weather/usa/philadelphia/historic?month=1&year=2016),  you see that on January 23, 2016 a Nevada in Philadelphia occurred.\n",
    "\n",
    "For this reason, the chart presented an outlier value in the TRAFFIC dataset, precisely on January 23, 2016.\n",
    "\n"
   ]
  },
  {
   "cell_type": "markdown",
   "metadata": {
    "_uuid": "5d70049373ea3c0d84229302a9c961af325c3f38",
    "slideshow": {
     "slide_type": "skip"
    }
   },
   "source": [
    "##### INSTALLED VERSIONS\n"
   ]
  },
  {
   "cell_type": "code",
   "execution_count": null,
   "metadata": {
    "_uuid": "69ffdcf74a794ad4fc90e73a9e39e55583aad2d3"
   },
   "outputs": [],
   "source": [
    "pd.show_versions ()"
   ]
  },
  {
   "cell_type": "code",
   "execution_count": null,
   "metadata": {
    "_uuid": "c6be27222402c0dfc4b88152ce195702589e31b9"
   },
   "outputs": [],
   "source": []
  }
 ],
 "metadata": {
  "celltoolbar": "Slideshow",
  "kernelspec": {
   "display_name": "Python 3",
   "language": "python",
   "name": "python3"
  },
  "language_info": {
   "codemirror_mode": {
    "name": "ipython",
    "version": 3
   },
   "file_extension": ".py",
   "mimetype": "text/x-python",
   "name": "python",
   "nbconvert_exporter": "python",
   "pygments_lexer": "ipython3",
   "version": "3.6.8"
  }
 },
 "nbformat": 4,
 "nbformat_minor": 1
}
