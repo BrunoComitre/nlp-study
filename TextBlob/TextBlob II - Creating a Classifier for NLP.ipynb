{
 "cells": [
  {
   "cell_type": "markdown",
   "metadata": {},
   "source": [
    "<p>&nbsp;</p>\n",
    "</p><h1 style=\"text-align: center;\"><strong>Creating a Classifier for</strong></h1>\n",
    "<h2 style=\"text-align: center;\"><strong>Natural Language Processing</strong></h2>\n",
    "<p>&nbsp;</p><p>&nbsp;</p><p>&nbsp;</p>"
   ]
  },
  {
   "cell_type": "markdown",
   "metadata": {
    "heading_collapsed": true
   },
   "source": [
    "# Introduction"
   ]
  },
  {
   "cell_type": "markdown",
   "metadata": {
    "hidden": true
   },
   "source": [
    "In this example we will create a simple phrase classifier using Naive Bayes and Textblob.\n",
    "\n",
    "We will use the libraries:\n",
    " \n",
    "- Textblob: Provides a simple API to access your methods and perform basic NLP tasks.\n",
    "- Naive Bayes: is a probabilistic classifier based on the \"Bayes Theorem\", based on the application of Bayes' theorem with strong presuppositions of resource independence.\n",
    "\n",
    "Installation:\n",
    "\n",
    "1. pip install -U textblob \n",
    "2. python -m textblob.download_corpora"
   ]
  },
  {
   "cell_type": "markdown",
   "metadata": {
    "hidden": true
   },
   "source": [
    "**Imports and Parameters:**"
   ]
  },
  {
   "cell_type": "code",
   "execution_count": 1,
   "metadata": {
    "hidden": true
   },
   "outputs": [],
   "source": [
    "from textblob.classifiers import NaiveBayesClassifier\n",
    "from textblob import TextBlob\n",
    "import pandas as pd"
   ]
  },
  {
   "cell_type": "markdown",
   "metadata": {
    "hidden": true
   },
   "source": [
    "***"
   ]
  },
  {
   "cell_type": "markdown",
   "metadata": {
    "heading_collapsed": true
   },
   "source": [
    "# Datasets"
   ]
  },
  {
   "cell_type": "markdown",
   "metadata": {
    "hidden": true
   },
   "source": [
    "**Training Dataset:**"
   ]
  },
  {
   "cell_type": "code",
   "execution_count": 2,
   "metadata": {
    "hidden": true
   },
   "outputs": [],
   "source": [
    "train_set = [\n",
    "    ('I love eating hamburger', 'Positive'),\n",
    "    ('This place is horrible', 'Negative'),\n",
    "    ('You are a lovely person', 'Positive'),\n",
    "    (\"You're a horrible person\", 'Negative'),\n",
    "    ('The party is great', 'Positive'),\n",
    "    ('The party is terrible', 'Negative'),\n",
    "    ('This place is wonderful', 'Positive'),\n",
    "    ('Aging', 'Negative'),\n",
    "    ('I hate you', 'Negative'),\n",
    "    ('I adore you', 'Positive'),\n",
    "    ('I love you', 'Positive'),\n",
    "    (\"You're amazing\", 'Positive'),\n",
    "    (\"I'm very angry\", 'Negative'),\n",
    "    ('I hate this language', 'Negative'),\n",
    "    ('This language is fantastic', 'Positive'),\n",
    "    ('This language is very good', 'Positive'),\n",
    "    ('What delicious food', 'Positive'),\n",
    "    ('What horrible food', 'Negative'),\n",
    "    (\"I'm feeling great\", 'Positive'),\n",
    "    (\"Today I'm terrible\", 'Negative'),\n",
    "    ('I love this sandwich.', 'Positive'),\n",
    "    ('this is an amazing place!', 'Positive'),\n",
    "    ('I feel very good about these beers.', 'Positive'),\n",
    "    ('this is my best work.', 'Positive'),\n",
    "    (\"what an awesome view\", 'Positive'),\n",
    "    ('I do not like this restaurant', 'Negative'),\n",
    "    ('I am tired of this stuff.', 'Negative'),\n",
    "    (\"I can't deal with this\", 'Negative'),\n",
    "    ('he is my sworn enemy!', 'Negative'),\n",
    "    ('my boss is horrible.', 'Negative')\n",
    "]"
   ]
  },
  {
   "cell_type": "markdown",
   "metadata": {
    "hidden": true
   },
   "source": [
    "**Test Dataset:**"
   ]
  },
  {
   "cell_type": "code",
   "execution_count": 3,
   "metadata": {
    "hidden": true
   },
   "outputs": [],
   "source": [
    "test_set = [\n",
    "    ('the beer was good.', 'Positive'),\n",
    "    ('I do not enjoy my job', 'Negative'),\n",
    "    (\"I ain't feeling dandy today.\", 'Negative'),\n",
    "    (\"I feel amazing!\", 'Positive'),\n",
    "    ('Gary is a friend of mine.', 'Positive'),\n",
    "    (\"I can't believe I'm doing this.\", 'Negative'),\n",
    "    (\"Great language\", 'Positive'),\n",
    "    (\"Poorly this language\", 'Negative'),\n",
    "    (\"You're horrible\", 'Negative'),\n",
    "    ('Hot food!', 'Positive'),\n",
    "    ('What an anger!', 'Negative'),\n",
    "    ('Great party!', 'Positive'),\n",
    "    ('I do not hate everyone', 'Positive')\n",
    "]"
   ]
  },
  {
   "cell_type": "markdown",
   "metadata": {
    "hidden": true
   },
   "source": [
    "***"
   ]
  },
  {
   "cell_type": "markdown",
   "metadata": {
    "heading_collapsed": true
   },
   "source": [
    "# Naive Bayes"
   ]
  },
  {
   "cell_type": "markdown",
   "metadata": {
    "hidden": true
   },
   "source": [
    "If you are going to use the train_set present in the kernel, run this good named **Naive Bayes**.\n",
    "\n",
    "If you want to run with CSV, JSON, and TSV file execute the box below."
   ]
  },
  {
   "cell_type": "markdown",
   "metadata": {
    "hidden": true
   },
   "source": [
    "Creating a Naive Bayes classifier, passing training data to the constructor."
   ]
  },
  {
   "cell_type": "markdown",
   "metadata": {
    "hidden": true
   },
   "source": [
    "**Creating Classifier:**"
   ]
  },
  {
   "cell_type": "code",
   "execution_count": 4,
   "metadata": {
    "hidden": true
   },
   "outputs": [],
   "source": [
    "classifier = NaiveBayesClassifier(train_set)"
   ]
  },
  {
   "cell_type": "markdown",
   "metadata": {
    "hidden": true
   },
   "source": [
    "**Creating Accuracy:**"
   ]
  },
  {
   "cell_type": "code",
   "execution_count": 5,
   "metadata": {
    "hidden": true
   },
   "outputs": [],
   "source": [
    "accuracy = classifier.accuracy(test_set)"
   ]
  },
  {
   "cell_type": "markdown",
   "metadata": {
    "hidden": true
   },
   "source": [
    "Creating a variable to measure the accuracy of our forecasts"
   ]
  },
  {
   "cell_type": "markdown",
   "metadata": {
    "hidden": true
   },
   "source": [
    "***"
   ]
  },
  {
   "cell_type": "markdown",
   "metadata": {
    "heading_collapsed": true
   },
   "source": [
    "# Loading Data from Files"
   ]
  },
  {
   "cell_type": "markdown",
   "metadata": {
    "hidden": true
   },
   "source": [
    "You can also load data from common file formats including CSV, JSON, and TSV."
   ]
  },
  {
   "cell_type": "markdown",
   "metadata": {
    "hidden": true
   },
   "source": [
    "**Creating Naive Bayes classifier, passing training data to the constructor.:**"
   ]
  },
  {
   "cell_type": "code",
   "execution_count": 6,
   "metadata": {
    "hidden": true
   },
   "outputs": [],
   "source": [
    "with open('train_set.json', 'r') as fp:\n",
    "    classifier = NaiveBayesClassifier(fp, format=\"json\")"
   ]
  },
  {
   "cell_type": "markdown",
   "metadata": {
    "hidden": true
   },
   "source": [
    "To run the other files, change the name and format"
   ]
  },
  {
   "cell_type": "markdown",
   "metadata": {
    "hidden": true
   },
   "source": [
    "***"
   ]
  },
  {
   "cell_type": "markdown",
   "metadata": {
    "heading_collapsed": true
   },
   "source": [
    "# Prediction"
   ]
  },
  {
   "cell_type": "markdown",
   "metadata": {
    "hidden": true
   },
   "source": [
    "**Phrase used in the forecast:**"
   ]
  },
  {
   "cell_type": "code",
   "execution_count": 7,
   "metadata": {
    "hidden": true
   },
   "outputs": [],
   "source": [
    "test_phrase1 = 'I love everyone'"
   ]
  },
  {
   "cell_type": "code",
   "execution_count": 8,
   "metadata": {
    "hidden": true
   },
   "outputs": [],
   "source": [
    "test_phrase2 = 'I do not hate everyone.'"
   ]
  },
  {
   "cell_type": "markdown",
   "metadata": {
    "hidden": true
   },
   "source": [
    "**Making our prediction:**"
   ]
  },
  {
   "cell_type": "code",
   "execution_count": 9,
   "metadata": {
    "hidden": true
   },
   "outputs": [],
   "source": [
    "blob = TextBlob(test_phrase1,classifier=classifier)"
   ]
  },
  {
   "cell_type": "markdown",
   "metadata": {
    "hidden": true
   },
   "source": [
    "To perform the sentence test, change the first space between parentheses: (**here**, classifier = cl)"
   ]
  },
  {
   "cell_type": "markdown",
   "metadata": {
    "hidden": true
   },
   "source": [
    "**Result:**"
   ]
  },
  {
   "cell_type": "code",
   "execution_count": 10,
   "metadata": {
    "hidden": true
   },
   "outputs": [
    {
     "name": "stdout",
     "output_type": "stream",
     "text": [
      "This sentence is of character: Positive\n",
      "Forecast accuracy: 0.6923076923076923\n"
     ]
    }
   ],
   "source": [
    "print('This sentence is of character: {}'.format(blob.classify()))\n",
    "print('Forecast accuracy: {}'.format(accuracy))"
   ]
  },
  {
   "cell_type": "markdown",
   "metadata": {
    "hidden": true
   },
   "source": [
    "***"
   ]
  },
  {
   "cell_type": "markdown",
   "metadata": {
    "heading_collapsed": true
   },
   "source": [
    "# Classifying Text"
   ]
  },
  {
   "cell_type": "markdown",
   "metadata": {
    "hidden": true
   },
   "source": [
    "**Classifier:**"
   ]
  },
  {
   "cell_type": "code",
   "execution_count": 11,
   "metadata": {
    "hidden": true
   },
   "outputs": [
    {
     "data": {
      "text/plain": [
       "'Positive'"
      ]
     },
     "execution_count": 11,
     "metadata": {},
     "output_type": "execute_result"
    }
   ],
   "source": [
    "classifier.classify(\"This is an amazing library!\")"
   ]
  },
  {
   "cell_type": "markdown",
   "metadata": {
    "hidden": true
   },
   "source": [
    "**Label Probability Distribution:**"
   ]
  },
  {
   "cell_type": "code",
   "execution_count": 12,
   "metadata": {
    "hidden": true
   },
   "outputs": [],
   "source": [
    "prob_dist = classifier.prob_classify(\"This one's a doozy.\")"
   ]
  },
  {
   "cell_type": "code",
   "execution_count": 13,
   "metadata": {
    "hidden": true
   },
   "outputs": [
    {
     "data": {
      "text/plain": [
       "'Positive'"
      ]
     },
     "execution_count": 13,
     "metadata": {},
     "output_type": "execute_result"
    }
   ],
   "source": [
    "prob_dist.max()"
   ]
  },
  {
   "cell_type": "markdown",
   "metadata": {
    "hidden": true
   },
   "source": [
    "**Rounded:**"
   ]
  },
  {
   "cell_type": "code",
   "execution_count": 14,
   "metadata": {
    "hidden": true
   },
   "outputs": [
    {
     "data": {
      "text/plain": [
       "0.75"
      ]
     },
     "execution_count": 14,
     "metadata": {},
     "output_type": "execute_result"
    }
   ],
   "source": [
    "round(prob_dist.prob(\"Positive\"), 2)"
   ]
  },
  {
   "cell_type": "code",
   "execution_count": 15,
   "metadata": {
    "hidden": true
   },
   "outputs": [
    {
     "data": {
      "text/plain": [
       "0.25"
      ]
     },
     "execution_count": 15,
     "metadata": {},
     "output_type": "execute_result"
    }
   ],
   "source": [
    "round(prob_dist.prob(\"Negative\"), 2)"
   ]
  },
  {
   "cell_type": "markdown",
   "metadata": {
    "hidden": true
   },
   "source": [
    "This method returns x rounded to n digits of the decimal point."
   ]
  },
  {
   "cell_type": "markdown",
   "metadata": {
    "hidden": true
   },
   "source": [
    "***"
   ]
  },
  {
   "cell_type": "markdown",
   "metadata": {
    "heading_collapsed": true
   },
   "source": [
    "# Classifying TextBlobs"
   ]
  },
  {
   "cell_type": "markdown",
   "metadata": {
    "hidden": true
   },
   "source": [
    "Another way to classify text is to pass a classifier into the constructor of TextBlob and call its classify() method."
   ]
  },
  {
   "cell_type": "markdown",
   "metadata": {
    "hidden": true
   },
   "source": [
    "**Test:**"
   ]
  },
  {
   "cell_type": "code",
   "execution_count": 16,
   "metadata": {
    "hidden": true
   },
   "outputs": [],
   "source": [
    "blob = TextBlob(\"The beer is good. But the hangover is horrible.\", classifier=classifier)"
   ]
  },
  {
   "cell_type": "code",
   "execution_count": 17,
   "metadata": {
    "hidden": true
   },
   "outputs": [
    {
     "data": {
      "text/plain": [
       "'Negative'"
      ]
     },
     "execution_count": 17,
     "metadata": {},
     "output_type": "execute_result"
    }
   ],
   "source": [
    "blob.classify()"
   ]
  },
  {
   "cell_type": "markdown",
   "metadata": {
    "hidden": true
   },
   "source": [
    "The advantage of this approach is that you can classify sentences within a TextBlob."
   ]
  },
  {
   "cell_type": "markdown",
   "metadata": {
    "hidden": true
   },
   "source": [
    "**Example:**"
   ]
  },
  {
   "cell_type": "code",
   "execution_count": 98,
   "metadata": {
    "hidden": true
   },
   "outputs": [
    {
     "name": "stdout",
     "output_type": "stream",
     "text": [
      "The beer is good.\n",
      "Positive\n",
      "But the hangover is horrible.\n",
      "Negative\n"
     ]
    }
   ],
   "source": [
    "for s in blob.sentences:\n",
    "    print(s)\n",
    "    print(s.classify())"
   ]
  },
  {
   "cell_type": "markdown",
   "metadata": {
    "hidden": true
   },
   "source": [
    "***"
   ]
  },
  {
   "cell_type": "markdown",
   "metadata": {
    "heading_collapsed": true
   },
   "source": [
    "# Evaluating Classifiers"
   ]
  },
  {
   "cell_type": "markdown",
   "metadata": {
    "hidden": true
   },
   "source": [
    "**Accuracy:**"
   ]
  },
  {
   "cell_type": "code",
   "execution_count": 18,
   "metadata": {
    "hidden": true
   },
   "outputs": [
    {
     "data": {
      "text/plain": [
       "0.6923076923076923"
      ]
     },
     "execution_count": 18,
     "metadata": {},
     "output_type": "execute_result"
    }
   ],
   "source": [
    "classifier.accuracy(test_set)"
   ]
  },
  {
   "cell_type": "markdown",
   "metadata": {
    "hidden": true
   },
   "source": [
    "**Note:**\n",
    "\n",
    "You can also pass in a file object into the accuracy method. The file can be in any of the formats listed in the **Loading Data from Files** section."
   ]
  },
  {
   "cell_type": "markdown",
   "metadata": {
    "hidden": true
   },
   "source": [
    "**Information:**"
   ]
  },
  {
   "cell_type": "markdown",
   "metadata": {
    "hidden": true
   },
   "source": [
    "Using the show_informative_features () method to display a listing of more informative features."
   ]
  },
  {
   "cell_type": "code",
   "execution_count": 19,
   "metadata": {
    "hidden": true
   },
   "outputs": [
    {
     "name": "stdout",
     "output_type": "stream",
     "text": [
      "Most Informative Features\n",
      "          contains(This) = True           Positi : Negati =      2.1 : 1.0\n",
      "            contains(my) = True           Negati : Positi =      1.9 : 1.0\n",
      "          contains(very) = True           Positi : Negati =      1.5 : 1.0\n",
      "      contains(language) = True           Positi : Negati =      1.5 : 1.0\n",
      "           contains(you) = True           Positi : Negati =      1.5 : 1.0\n",
      "           contains(You) = True           Positi : Negati =      1.5 : 1.0\n",
      "         contains(place) = True           Positi : Negati =      1.5 : 1.0\n",
      "          contains(this) = True           Negati : Positi =      1.5 : 1.0\n",
      "      contains(horrible) = False          Positi : Negati =      1.4 : 1.0\n",
      "             contains(I) = True           Negati : Positi =      1.3 : 1.0\n"
     ]
    }
   ],
   "source": [
    "classifier.show_informative_features(10)"
   ]
  },
  {
   "cell_type": "markdown",
   "metadata": {
    "hidden": true
   },
   "source": [
    "***"
   ]
  },
  {
   "cell_type": "markdown",
   "metadata": {
    "heading_collapsed": true
   },
   "source": [
    "# Updating Classifiers with New Data"
   ]
  },
  {
   "cell_type": "markdown",
   "metadata": {
    "hidden": true
   },
   "source": [
    "**Create New Training Data:**"
   ]
  },
  {
   "cell_type": "code",
   "execution_count": 21,
   "metadata": {
    "hidden": true
   },
   "outputs": [],
   "source": [
    "new_data = [('She is my best friend.', 'Positive'),\n",
    "            (\"I'm happy to have a new friend.\", 'Positive'),\n",
    "            (\"He ain't from around here.\", 'Negative')\n",
    "]"
   ]
  },
  {
   "cell_type": "markdown",
   "metadata": {
    "hidden": true
   },
   "source": [
    "**Updating the classifier with new training data:**"
   ]
  },
  {
   "cell_type": "code",
   "execution_count": 22,
   "metadata": {
    "hidden": true
   },
   "outputs": [
    {
     "data": {
      "text/plain": [
       "True"
      ]
     },
     "execution_count": 22,
     "metadata": {},
     "output_type": "execute_result"
    }
   ],
   "source": [
    "classifier.update(new_data)"
   ]
  },
  {
   "cell_type": "markdown",
   "metadata": {
    "hidden": true
   },
   "source": [
    "**Accuracy:**"
   ]
  },
  {
   "cell_type": "code",
   "execution_count": 23,
   "metadata": {
    "hidden": true
   },
   "outputs": [
    {
     "data": {
      "text/plain": [
       "0.7692307692307693"
      ]
     },
     "execution_count": 23,
     "metadata": {},
     "output_type": "execute_result"
    }
   ],
   "source": [
    "classifier.accuracy(test_set)"
   ]
  },
  {
   "cell_type": "markdown",
   "metadata": {
    "hidden": true
   },
   "source": [
    "***"
   ]
  },
  {
   "cell_type": "markdown",
   "metadata": {
    "heading_collapsed": true
   },
   "source": [
    "# Feature Extractors"
   ]
  },
  {
   "cell_type": "markdown",
   "metadata": {
    "hidden": true
   },
   "source": [
    "By default, the NaiveBayesClassifier uses a simple feature extractor that indicates which words in the training set are contained in a document.\n",
    "\n",
    "For example, the sentence “I feel happy” might have the features contains(happy): True or contains(angry): False.\n",
    "\n",
    "You can override this feature extractor by writing your own. A feature extractor is simply a function with document (the text to extract features from) as the first argument. The function may include a second argument, train_set (the training dataset), if necessary.\n",
    "\n",
    "The function should return a dictionary of features for document."
   ]
  },
  {
   "cell_type": "markdown",
   "metadata": {
    "hidden": true
   },
   "source": [
    "**Example:**"
   ]
  },
  {
   "cell_type": "code",
   "execution_count": 24,
   "metadata": {
    "hidden": true
   },
   "outputs": [],
   "source": [
    "def end_word_extractor(document):\n",
    "    tokens = document.split()\n",
    "    first_word, last_word = tokens[0], tokens[-1]\n",
    "    feats = {}\n",
    "    feats[\"first({0})\".format(first_word)] = True\n",
    "    feats[\"last({0})\".format(last_word)] = False\n",
    "    return feats\n",
    "features = end_word_extractor(\"I feel happy\")\n",
    "assert features == {'last(happy)': False, 'first(I)': True}"
   ]
  },
  {
   "cell_type": "markdown",
   "metadata": {
    "hidden": true
   },
   "source": [
    "A resource extractor was created that uses only the first and last words of a document as its resources."
   ]
  },
  {
   "cell_type": "markdown",
   "metadata": {
    "hidden": true
   },
   "source": [
    "**Using the resource extractor in a classifier:**"
   ]
  },
  {
   "cell_type": "code",
   "execution_count": 25,
   "metadata": {
    "hidden": true
   },
   "outputs": [],
   "source": [
    "classifier2 = NaiveBayesClassifier(test_set, feature_extractor=end_word_extractor)"
   ]
  },
  {
   "cell_type": "markdown",
   "metadata": {
    "hidden": true
   },
   "source": [
    "It was passed as the second argument of the constructor."
   ]
  },
  {
   "cell_type": "markdown",
   "metadata": {
    "hidden": true
   },
   "source": [
    "**Test:**"
   ]
  },
  {
   "cell_type": "code",
   "execution_count": 26,
   "metadata": {
    "hidden": true
   },
   "outputs": [],
   "source": [
    "blob = TextBlob(\"I'm excited to try my new classifier.\", classifier=classifier2)"
   ]
  },
  {
   "cell_type": "code",
   "execution_count": 27,
   "metadata": {
    "hidden": true
   },
   "outputs": [
    {
     "data": {
      "text/plain": [
       "'Positive'"
      ]
     },
     "execution_count": 27,
     "metadata": {},
     "output_type": "execute_result"
    }
   ],
   "source": [
    "blob.classify()"
   ]
  },
  {
   "cell_type": "markdown",
   "metadata": {
    "hidden": true
   },
   "source": [
    "***"
   ]
  },
  {
   "cell_type": "markdown",
   "metadata": {},
   "source": [
    "# <p>&nbsp;</p>\n",
    "<h1 style=\"text-align: center;\"><strong><span lang=\"pt\">CONCLUSION</strong></span></h1>\n",
    "<p>&nbsp;</p><p>&nbsp;</p><p>&nbsp;</p>"
   ]
  },
  {
   "cell_type": "markdown",
   "metadata": {},
   "source": [
    "This is a tutorial was the continuation of the Kernel TextBlob I, where more columns were added and inputs were used for data sets and training tests. In addition to some modifications in the code.\n",
    "\n",
    "**References:**\n",
    "- [Tutorial: Building a Text Classification System](https://textblob.readthedocs.io/en/dev/classifiers.html#classifiers)\n",
    "- [Naive Bayes Classifier: Simple Sorting Algorithm](https://en.wikipedia.org/wiki/Naive_Bayes_classifier)"
   ]
  },
  {
   "cell_type": "markdown",
   "metadata": {},
   "source": [
    "***"
   ]
  },
  {
   "cell_type": "markdown",
   "metadata": {},
   "source": [
    "##### INSTALLED VERSIONS"
   ]
  },
  {
   "cell_type": "code",
   "execution_count": 18,
   "metadata": {},
   "outputs": [
    {
     "name": "stdout",
     "output_type": "stream",
     "text": [
      "\n",
      "INSTALLED VERSIONS\n",
      "------------------\n",
      "commit: None\n",
      "python: 3.6.6.final.0\n",
      "python-bits: 64\n",
      "OS: Windows\n",
      "OS-release: 10\n",
      "machine: AMD64\n",
      "processor: Intel64 Family 6 Model 142 Stepping 9, GenuineIntel\n",
      "byteorder: little\n",
      "LC_ALL: None\n",
      "LANG: None\n",
      "LOCALE: None.None\n",
      "\n",
      "pandas: 0.23.4\n",
      "pytest: 3.9.1\n",
      "pip: 18.1\n",
      "setuptools: 40.4.3\n",
      "Cython: 0.29.1\n",
      "numpy: 1.15.4\n",
      "scipy: 1.1.0\n",
      "pyarrow: None\n",
      "xarray: None\n",
      "IPython: 7.0.1\n",
      "sphinx: 1.8.1\n",
      "patsy: 0.5.0\n",
      "dateutil: 2.7.5\n",
      "pytz: 2018.5\n",
      "blosc: None\n",
      "bottleneck: 1.2.1\n",
      "tables: 3.4.4\n",
      "numexpr: 2.6.8\n",
      "feather: None\n",
      "matplotlib: 2.2.2\n",
      "openpyxl: 2.5.9\n",
      "xlrd: 1.1.0\n",
      "xlwt: 1.3.0\n",
      "xlsxwriter: 1.1.2\n",
      "lxml: 4.1.1\n",
      "bs4: 4.6.3\n",
      "html5lib: 1.0.1\n",
      "sqlalchemy: 1.2.14\n",
      "pymysql: None\n",
      "psycopg2: None\n",
      "jinja2: 2.10\n",
      "s3fs: None\n",
      "fastparquet: None\n",
      "pandas_gbq: None\n",
      "pandas_datareader: None\n"
     ]
    }
   ],
   "source": [
    "pd.show_versions()"
   ]
  },
  {
   "cell_type": "markdown",
   "metadata": {},
   "source": [
    "***"
   ]
  }
 ],
 "metadata": {
  "kernelspec": {
   "display_name": "Python 3",
   "language": "python",
   "name": "python3"
  },
  "language_info": {
   "codemirror_mode": {
    "name": "ipython",
    "version": 3
   },
   "file_extension": ".py",
   "mimetype": "text/x-python",
   "name": "python",
   "nbconvert_exporter": "python",
   "pygments_lexer": "ipython3",
   "version": "3.6.6"
  }
 },
 "nbformat": 4,
 "nbformat_minor": 2
}
