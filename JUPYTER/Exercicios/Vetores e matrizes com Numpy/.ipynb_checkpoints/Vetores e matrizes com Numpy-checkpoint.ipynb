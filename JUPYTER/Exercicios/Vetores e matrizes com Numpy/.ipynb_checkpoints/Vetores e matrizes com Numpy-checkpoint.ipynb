{
 "cells": [
  {
   "cell_type": "markdown",
   "metadata": {},
   "source": [
    "# Vetores e matrizes com numpy"
   ]
  },
  {
   "cell_type": "markdown",
   "metadata": {},
   "source": [
    "A principal diferencia com as listas é que as matrizes no numpy são de um tipo só ou seja, nas listas da para misturar string, inteiros, reais, complexos, etc, o que você bem entender; já nos vetores do numpy você só pode usar objetos de um mesmo tipo ou inteiros, ou reais ou complexos (sendo que cada um deles pode ser de diversas precisões, como se mostra na tabela embaixo)"
   ]
  },
  {
   "cell_type": "markdown",
   "metadata": {},
   "source": [
    "|Tipo\t|Descrição|\n",
    "|:-----:|:------------------|\n",
    "|bool\t|verdadeiro ou Falso, 1 bit|\n",
    "|inti\t|inteiro caraterístico do sistema (ou int32 ou int64)|\n",
    "|int8\t|Byte ($-128$ a $127$)|\n",
    "|int16\t|Inteiro ($-32768$ a $32767$)|\n",
    "|int32\t|Inteiro $\\left(2\\times10^{31}\\right.$ a $\\left.2\\times10^{31}-1\\right)$|\n",
    "|int64\t|Inteiro $\\left(2\\times10^{63}\\right.$ a $\\left.2\\times10^{63}-1\\right)$|\n",
    "|uint8\t|Byte ($0$ a $255$)|\n",
    "|uint16\t|Inteiro ($0$ a $65535$)|\n",
    "|uint32\t|Inteiro $\\left(0\\right.$ a $\\left.2\\times10^{32}-1\\right)$|\n",
    "|uint64\t|Inteiro $\\left(0\\right.$ a $\\left.2\\times10^{64}-1\\right)$|\n",
    "|float16\t|real de precisão média: bit de sinal, expoente de 5 bits e 10 bits de mantisa|\n",
    "|float32\t|real de precisão simples: bit de sinal, expoente de 8 bits e 23 bits de mantisa|\n",
    "|float64 ou float\t|real de precisão dupla: bit de sinal, expoente de 11 bits e 52 bits de mantisa|\n",
    "|complex64\t|número complexo formado por 2 float32 - parte real e imaginaria|\n",
    "|complex128 ou complex\t|número complexo formado por 2 float64 - parte real e imaginaria|"
   ]
  },
  {
   "cell_type": "markdown",
   "metadata": {},
   "source": [
    "# Operações com vetores do numpy"
   ]
  },
  {
   "cell_type": "markdown",
   "metadata": {},
   "source": [
    "Vejamos algumas das operações, elemento a elemento que podem ser feitas sobre vetores numpy. Se você vai usar algum desse métodos lembre-se que devemos escrever numpy.metodo onde método é alguma das operações que são descrita a seguir:"
   ]
  },
  {
   "cell_type": "markdown",
   "metadata": {},
   "source": [
    "# Definição dos elementos da matriz"
   ]
  },
  {
   "cell_type": "markdown",
   "metadata": {},
   "source": [
    "|Método\t|Resultado|\n",
    "| ------------- |:-------------:|\n",
    "|zeros((N,M))\t|vetor com zeros, M linhas, N colunas|\n",
    "|ones((M,N))\t|vetor com uns, MxN|\n",
    "|empty((M,N))\t|vetor vazio (qualquer valor), MxN|\n",
    "|zeros_like(A)\t|vetor com zeros, formato do A.|\n",
    "|ones_like(A)\t|vetor com uns, formato do A.|\n",
    "|empty_like(A)\t|vetor vazio, formato do A.|\n",
    "|random.random((M,N))\t|vetor com números aleatórios, MxN|\n",
    "|identity(N,float)\t|matriz identidade NxN, ponto flutuante|\n",
    "|array([(1.5,2,3),(4,5,6)])     \t|especifica os valores da matriz|\n",
    "|mgrid[1:3,2:5]\t|grade retangular x=[1,2] e y=[2,3,4]|\n",
    "|fromfunction(f, (M,N))\t|matriz calculada com função f(i,j), MxN|\n",
    "|arange(I, F, P)\t|vetor com inicio I, fim F, passo P|\n",
    "|linspace(I,F,N)\t|vetor com N números de I até F|"
   ]
  },
  {
   "cell_type": "markdown",
   "metadata": {},
   "source": [
    "# Operações sobre matrizes numpy"
   ]
  },
  {
   "cell_type": "markdown",
   "metadata": {},
   "source": [
    "|Método\t|Resultado|\n",
    "| ------------- |:-------------:|\n",
    "|A.sum()\t|soma dos itens|\n",
    "|A.min()\t|valor mínimo|\n",
    "|A.max()\t|valor máximo|\n",
    "|A.mean()\t|média aritmética|\n",
    "|A.std()\t|desvio padrão|\n",
    "|A.var()\t|variância|\n",
    "|A.trace()\t|traço|\n",
    "|A.size()\t|número de elementos|\n",
    "|A.shape()\t|formato|\n",
    "|A.ptp()\t|pico-a-pico (máximo - mínimo)|\n",
    "|A.ravel()\t|vversão 1D|\n",
    "|A.transpose(), A.T\t|matriz transposta|\n",
    "|A.resize(M,N)\t|reforma ou trunca a matriz in situ|\n",
    "|A.reshape(M,N)\t|retorna matriz com novo formato|\n",
    "|A.clip(Amin,Amax)\t|corta valores em Amin e Amax|\n",
    "|A.compress(condição)     \t|seleciona elementos baseado em condição|\n",
    "|A.conjugate()\t|complexo conjugado|\n",
    "|A.copy()\t|retorna copia|\n",
    "|A.fill(valor)\t|preenche com valor|"
   ]
  },
  {
   "cell_type": "markdown",
   "metadata": {},
   "source": [
    "|Método\t|Resultado|\n",
    "| ------------- |:-------------:|\n",
    "|C = A-B, C=A+B, C=A*B,C=A/B, A**2\t|operações elemento a elemento,$\\left( C_{ij} = A_{ij} - B_{ij} \\right)$|\n",
    "|dot(A,B), mat(A)*mat(B)\t|produto matricial|\n",
    "|inner(A, B)\t|produto interno|\n",
    "|outer(A, B)\t|produto externo|\n",
    "|concatenate(arrays, axis=0) |concatena vetores|\n",
    "|vstack(A,B)\t|empilha verticalmente vetores|\n",
    "|hstack(A,B)|empilha horizontalmente vetores|\n",
    "|vsplit(A,2)\t|parte verticalmente vetor|\n",
    "|hsplit(A,2)\t|parte horizontalmente vetor|\t \n",
    "|A[0]\t|primeiro elemento|\n",
    "|A[i][j], A[i,j]\t|convenção dos índices $A_{ij}$ (linha $i$, coluna $j$)|\n",
    "|A[3][2]\t|$A_{32}$ 3ro elemento na 4ta linha|\n",
    "|A[1]\t|2da linha|\n",
    "|x[2]\t|3ro elemento|\n",
    "|x[-2]\t|penúltimo elemento (índice contando do fim)|\n",
    "|x[2:5]\t|subvetor de 3ro até o quinto, $\\left[ x[2],\\,x[3],\\,x[4]\\right]$|\n",
    "|x[:5]\t|elementos desde x[0] até x[4]|\n",
    "|x[2:]\t|do terceiro elemento até o fim|\n",
    "|x[:]\t|todo o vetor|\n",
    "|x[2:9:3]\t|do terceiro até o decimo elemento de,três em três: $\\left[ x[2],\\,x[5],\\,x[8]\\right]$|\n",
    "|x[numpy.where(x>7)]|\telementos em x maiores que 7|"
   ]
  },
  {
   "cell_type": "markdown",
   "metadata": {},
   "source": [
    "vejamos alguns exemplos, para definirmos uma matriz ou um vetor existem diversas forma:"
   ]
  },
  {
   "cell_type": "code",
   "execution_count": 1,
   "metadata": {},
   "outputs": [
    {
     "data": {
      "text/plain": [
       "([(1+1j), (2+5j), (3-3j)],\n",
       " array([1.+1.j, 2.+5.j, 3.-3.j]),\n",
       " dtype('complex128'),\n",
       " (3,))"
      ]
     },
     "execution_count": 1,
     "metadata": {},
     "output_type": "execute_result"
    }
   ],
   "source": [
    "#!/usr/bin/env python\n",
    " \n",
    "import numpy as np\n",
    " \n",
    "'\\n---- De uma lista python para um vetor numpy -----'\n",
    "lista = []\n",
    "lista.append(1.0+1j)\n",
    "lista.append(2.0+5j)\n",
    "lista.append(3.0-3j)\n",
    "a = np.array(lista, dtype=np.complex)\n",
    "lista, a, a.dtype, a.shape"
   ]
  },
  {
   "cell_type": "code",
   "execution_count": 12,
   "metadata": {},
   "outputs": [
    {
     "data": {
      "text/plain": [
       "(array([23,  5, 14]), dtype('int32'), (3,))"
      ]
     },
     "execution_count": 12,
     "metadata": {},
     "output_type": "execute_result"
    }
   ],
   "source": [
    "'\\n-------- Usando array --------'\n",
    "a = np.array([23, 5, 14])\n",
    "a, a.dtype, a.shape"
   ]
  },
  {
   "cell_type": "code",
   "execution_count": 13,
   "metadata": {},
   "outputs": [
    {
     "data": {
      "text/plain": [
       "(array([ True, False,  True]), dtype('bool'), (3,))"
      ]
     },
     "execution_count": 13,
     "metadata": {},
     "output_type": "execute_result"
    }
   ],
   "source": [
    "a = np.array([True, False, True])\n",
    "a, a.dtype, a.shape"
   ]
  },
  {
   "cell_type": "code",
   "execution_count": 14,
   "metadata": {},
   "outputs": [
    {
     "data": {
      "text/plain": [
       "(array([[ 1.,  3.,  5.],\n",
       "        [ 7.,  9., 11.],\n",
       "        [13., 15., 17.]], dtype=float32), dtype('float32'), (3, 3))"
      ]
     },
     "execution_count": 14,
     "metadata": {},
     "output_type": "execute_result"
    }
   ],
   "source": [
    "a = np.array([[1.0, 3.0, 5.0], [7.0, 9.0, 11.0], [13.0, 15.0, 17.0]], dtype=np.float32)\n",
    "a, a.dtype, a.shape"
   ]
  },
  {
   "cell_type": "code",
   "execution_count": 9,
   "metadata": {},
   "outputs": [
    {
     "data": {
      "text/plain": [
       "(array([0., 1., 2., 3., 4.], dtype=float16), dtype('float16'), (5,))"
      ]
     },
     "execution_count": 9,
     "metadata": {},
     "output_type": "execute_result"
    }
   ],
   "source": [
    "'\\n-------- Usando arange ----------'\n",
    "a = np.arange(5,dtype=np.float16)\n",
    "a, a.dtype, a.shape"
   ]
  },
  {
   "cell_type": "code",
   "execution_count": 10,
   "metadata": {},
   "outputs": [
    {
     "data": {
      "text/plain": [
       "(array([[ 0.,  1.,  2.,  3.,  4.],\n",
       "        [ 5.,  6.,  7.,  8.,  9.],\n",
       "        [10., 11., 12., 13., 14.]], dtype=float16), dtype('float16'), (3, 5))"
      ]
     },
     "execution_count": 10,
     "metadata": {},
     "output_type": "execute_result"
    }
   ],
   "source": [
    "a = np.arange(15,dtype=np.float16).reshape(3,5)\n",
    "a, a.dtype, a.shape"
   ]
  },
  {
   "cell_type": "code",
   "execution_count": 11,
   "metadata": {},
   "outputs": [
    {
     "data": {
      "text/plain": [
       "(array([1., 3., 5., 7., 9.]), dtype('float64'), (5,))"
      ]
     },
     "execution_count": 11,
     "metadata": {},
     "output_type": "execute_result"
    }
   ],
   "source": [
    "a = np.arange(1.0, 10.0, 2.0, dtype=np.float)\n",
    "a, a.dtype, a.shape"
   ]
  },
  {
   "cell_type": "code",
   "execution_count": 6,
   "metadata": {},
   "outputs": [
    {
     "data": {
      "text/plain": [
       "(array([0, 0, 0, 0, 0]), dtype('int32'), (5,))"
      ]
     },
     "execution_count": 6,
     "metadata": {},
     "output_type": "execute_result"
    }
   ],
   "source": [
    "'\\n----------- Usando zeros, ones e empty --------------'\n",
    "a = np.zeros( 5, dtype=np.int32 )\n",
    "a, a.dtype, a.shape"
   ]
  },
  {
   "cell_type": "code",
   "execution_count": 7,
   "metadata": {},
   "outputs": [
    {
     "data": {
      "text/plain": [
       "(array([1.+0.j, 1.+0.j, 1.+0.j, 1.+0.j, 1.+0.j]), dtype('complex128'), (5,))"
      ]
     },
     "execution_count": 7,
     "metadata": {},
     "output_type": "execute_result"
    }
   ],
   "source": [
    "a = np.ones( 5, dtype=np.complex )\n",
    "a, a.dtype, a.shape"
   ]
  },
  {
   "cell_type": "code",
   "execution_count": 8,
   "metadata": {},
   "outputs": [
    {
     "data": {
      "text/plain": [
       "(array([[0.0e+00, 0.0e+00, 0.0e+00, 0.0e+00],\n",
       "        [0.0e+00, 0.0e+00, 0.0e+00, 0.0e+00],\n",
       "        [0.0e+00, 9.0e+00, 2.0e-42, 0.0e+00],\n",
       "        [0.0e+00, 4.7e-39, 0.0e+00, 1.0e+00]], dtype=float32),\n",
       " dtype('float32'),\n",
       " (4, 4))"
      ]
     },
     "execution_count": 8,
     "metadata": {},
     "output_type": "execute_result"
    }
   ],
   "source": [
    "a = np.empty( 16, dtype=np.float32 ).reshape(4,4)\n",
    "a, a.dtype, a.shape"
   ]
  },
  {
   "cell_type": "code",
   "execution_count": 5,
   "metadata": {},
   "outputs": [
    {
     "data": {
      "text/plain": [
       "array([[0.0e+00, 0.0e+00, 0.0e+00, 0.0e+00],\n",
       "       [0.0e+00, 0.0e+00, 0.0e+00, 0.0e+00],\n",
       "       [0.0e+00, 9.0e+00, 2.0e-42, 0.0e+00],\n",
       "       [0.0e+00, 4.7e-39, 0.0e+00, 1.0e+00]], dtype=float32)"
      ]
     },
     "execution_count": 5,
     "metadata": {},
     "output_type": "execute_result"
    }
   ],
   "source": [
    "'\\n------ Modificando um elemento da matriz -------'\n",
    "np.set_printoptions(precision=1)\n",
    "a[3,3] = 1.0\n",
    "a[2,1] = 9.0\n",
    "a"
   ]
  },
  {
   "cell_type": "markdown",
   "metadata": {},
   "source": [
    "agora vejamos operações sobre os vetores:"
   ]
  },
  {
   "cell_type": "code",
   "execution_count": 15,
   "metadata": {},
   "outputs": [
    {
     "data": {
      "text/plain": [
       "([(1+1j), (2+5j), (3-3j)],\n",
       " array([1.+1.j, 2.+5.j, 3.-3.j]),\n",
       " dtype('complex128'),\n",
       " (3,))"
      ]
     },
     "execution_count": 15,
     "metadata": {},
     "output_type": "execute_result"
    }
   ],
   "source": [
    "#!/usr/bin/env python\n",
    " \n",
    "import numpy as np\n",
    " \n",
    "#De uma lista python para um vetor numpy\n",
    "'Converte de uma lista para array'\n",
    "lista = []\n",
    "lista.append(1.0+1j)\n",
    "lista.append(2.0+5j)\n",
    "lista.append(3.0-3j)\n",
    "a = np.array(lista, dtype=np.complex)\n",
    "lista, a, a.dtype, a.shape"
   ]
  },
  {
   "cell_type": "code",
   "execution_count": 16,
   "metadata": {},
   "outputs": [
    {
     "data": {
      "text/plain": [
       "(array([23,  5, 14]), dtype('int32'), (3,))"
      ]
     },
     "execution_count": 16,
     "metadata": {},
     "output_type": "execute_result"
    }
   ],
   "source": [
    "#Usando array\n",
    "'\\nUsando Array'\n",
    "a = np.array([23, 5, 14])\n",
    "a, a.dtype, a.shape"
   ]
  },
  {
   "cell_type": "code",
   "execution_count": 17,
   "metadata": {},
   "outputs": [
    {
     "data": {
      "text/plain": [
       "(array([ True, False,  True]), dtype('bool'), (3,))"
      ]
     },
     "execution_count": 17,
     "metadata": {},
     "output_type": "execute_result"
    }
   ],
   "source": [
    "a = np.array([True, False, True])\n",
    "a, a.dtype, a.shape"
   ]
  },
  {
   "cell_type": "code",
   "execution_count": 18,
   "metadata": {},
   "outputs": [
    {
     "data": {
      "text/plain": [
       "(array([[ 1.,  3.,  5.],\n",
       "        [ 7.,  9., 11.],\n",
       "        [13., 15., 17.]], dtype=float32), dtype('float32'), (3, 3))"
      ]
     },
     "execution_count": 18,
     "metadata": {},
     "output_type": "execute_result"
    }
   ],
   "source": [
    "a = np.array([[1.0, 3.0, 5.0], [7.0, 9.0, 11.0], [13.0, 15.0, 17.0]], dtype=np.float32)\n",
    "a, a.dtype, a.shape"
   ]
  },
  {
   "cell_type": "code",
   "execution_count": 19,
   "metadata": {},
   "outputs": [
    {
     "data": {
      "text/plain": [
       "(array([0., 1., 2., 3., 4.], dtype=float16), dtype('float16'), (5,))"
      ]
     },
     "execution_count": 19,
     "metadata": {},
     "output_type": "execute_result"
    }
   ],
   "source": [
    "#Usando arange\n",
    "'\\nUsando Arange'\n",
    "a = np.arange(5,dtype=np.float16)\n",
    "a, a.dtype, a.shape"
   ]
  },
  {
   "cell_type": "code",
   "execution_count": 20,
   "metadata": {},
   "outputs": [
    {
     "data": {
      "text/plain": [
       "(array([[ 0.,  1.,  2.,  3.,  4.],\n",
       "        [ 5.,  6.,  7.,  8.,  9.],\n",
       "        [10., 11., 12., 13., 14.]], dtype=float16), dtype('float16'), (3, 5))"
      ]
     },
     "execution_count": 20,
     "metadata": {},
     "output_type": "execute_result"
    }
   ],
   "source": [
    "a = np.arange(15,dtype=np.float16).reshape(3,5)\n",
    "a, a.dtype, a.shape"
   ]
  },
  {
   "cell_type": "code",
   "execution_count": 21,
   "metadata": {},
   "outputs": [
    {
     "data": {
      "text/plain": [
       "(array([1., 3., 5., 7., 9.]), dtype('float64'), (5,))"
      ]
     },
     "execution_count": 21,
     "metadata": {},
     "output_type": "execute_result"
    }
   ],
   "source": [
    "a = np.arange(1.0, 10.0, 2.0, dtype=np.float)\n",
    "a, a.dtype, a.shape"
   ]
  },
  {
   "cell_type": "code",
   "execution_count": 23,
   "metadata": {},
   "outputs": [
    {
     "data": {
      "text/plain": [
       "array([ 0.,  1.,  2.,  3.,  4.,  5.,  6.,  7.,  8.,  9., 10.])"
      ]
     },
     "execution_count": 23,
     "metadata": {},
     "output_type": "execute_result"
    }
   ],
   "source": [
    "#Usando linspace\n",
    "'\\nUsando linspace: gera dados desde inicio ate fim,'\n",
    "'igualmente espaciados, incluindo extremos'\n",
    "a = np.linspace(0,10,11)\n",
    "a"
   ]
  },
  {
   "cell_type": "code",
   "execution_count": 24,
   "metadata": {},
   "outputs": [
    {
     "data": {
      "text/plain": [
       "array([ 0. ,  0.2,  0.5,  0.8,  1. ,  1.2,  1.5,  1.8,  2. ,  2.2,  2.5,\n",
       "        2.8,  3. ,  3.2,  3.5,  3.8,  4. ,  4.2,  4.5,  4.8,  5. ,  5.2,\n",
       "        5.5,  5.8,  6. ,  6.2,  6.5,  6.8,  7. ,  7.2,  7.5,  7.8,  8. ,\n",
       "        8.2,  8.5,  8.8,  9. ,  9.2,  9.5,  9.8, 10. ])"
      ]
     },
     "execution_count": 24,
     "metadata": {},
     "output_type": "execute_result"
    }
   ],
   "source": [
    "a = np.linspace(0,10,41)\n",
    "a"
   ]
  },
  {
   "cell_type": "code",
   "execution_count": 25,
   "metadata": {},
   "outputs": [
    {
     "data": {
      "text/plain": [
       "(array([0, 0, 0, 0, 0]), dtype('int32'), (5,))"
      ]
     },
     "execution_count": 25,
     "metadata": {},
     "output_type": "execute_result"
    }
   ],
   "source": [
    "#usando zeros, ones e empty\n",
    "'\\nUsando Zeros'\n",
    "a = np.zeros( 5, dtype=np.int32 )\n",
    "a, a.dtype, a.shape"
   ]
  },
  {
   "cell_type": "code",
   "execution_count": 26,
   "metadata": {},
   "outputs": [
    {
     "data": {
      "text/plain": [
       "(array([1.+0.j, 1.+0.j, 1.+0.j, 1.+0.j, 1.+0.j]), dtype('complex128'), (5,))"
      ]
     },
     "execution_count": 26,
     "metadata": {},
     "output_type": "execute_result"
    }
   ],
   "source": [
    "'\\nUsando Ones'\n",
    "a = np.ones( 5, dtype=np.complex )\n",
    "a, a.dtype, a.shape"
   ]
  },
  {
   "cell_type": "code",
   "execution_count": 27,
   "metadata": {},
   "outputs": [
    {
     "data": {
      "text/plain": [
       "(array([[0.0e+00, 0.0e+00, 0.0e+00, 0.0e+00],\n",
       "        [0.0e+00, 0.0e+00, 0.0e+00, 0.0e+00],\n",
       "        [0.0e+00, 9.0e+00, 2.0e-42, 0.0e+00],\n",
       "        [0.0e+00, 4.7e-39, 0.0e+00, 1.0e+00]], dtype=float32),\n",
       " dtype('float32'),\n",
       " (4, 4))"
      ]
     },
     "execution_count": 27,
     "metadata": {},
     "output_type": "execute_result"
    }
   ],
   "source": [
    "'\\nUsando Empty'\n",
    "a = np.empty( 16, dtype=np.float32 ).reshape(4,4)\n",
    "a, a.dtype, a.shape"
   ]
  },
  {
   "cell_type": "code",
   "execution_count": 28,
   "metadata": {},
   "outputs": [
    {
     "data": {
      "text/plain": [
       "array([[0.0e+00, 0.0e+00, 0.0e+00, 0.0e+00],\n",
       "       [0.0e+00, 0.0e+00, 0.0e+00, 0.0e+00],\n",
       "       [0.0e+00, 9.0e+00, 2.0e-42, 0.0e+00],\n",
       "       [0.0e+00, 4.7e-39, 0.0e+00, 1.0e+00]], dtype=float32)"
      ]
     },
     "execution_count": 28,
     "metadata": {},
     "output_type": "execute_result"
    }
   ],
   "source": [
    "np.set_printoptions(precision=1)\n",
    "'\\nmodificando um elemento da matriz'\n",
    "a[3,3] = 1.0\n",
    "a[2,1] = 9.0\n",
    "a"
   ]
  },
  {
   "cell_type": "markdown",
   "metadata": {},
   "source": [
    "# Tipo de distribuições"
   ]
  },
  {
   "cell_type": "markdown",
   "metadata": {},
   "source": [
    "No exemplo acima vemos que os números são retirados de forma a estarem uniformemente distribuídos, o que significa isso? Para entender teremos que fazer um gráfico de N=100 valores sorteados os quais serão colhidos de uma distribuição uniforme entre -1 e 1."
   ]
  },
  {
   "cell_type": "code",
   "execution_count": 31,
   "metadata": {},
   "outputs": [
    {
     "data": {
      "image/png": "[encoded data removed]",
      "text/plain": [
       "<Figure size 432x288 with 1 Axes>"
      ]
     },
     "metadata": {},
     "output_type": "display_data"
    }
   ],
   "source": [
    "#!/usr/bin/env python\n",
    "#-*- coding: utf-8 -*-\n",
    " \n",
    "import numpy as np\n",
    "import matplotlib as mpl\n",
    "import matplotlib.pyplot as plt\n",
    " \n",
    "xi       = -1.0\n",
    "xf       = 1.0\n",
    "numDados = 1000\n",
    "semente  = 4727\n",
    " \n",
    "#iniciando o gerador\n",
    "conjAleaNum = np.random.RandomState(seed=semente)\n",
    " \n",
    "#gera os número\n",
    "y = conjAleaNum.uniform(low=xi, high=xf, size=numDados)\n",
    " \n",
    "#cria numDados entre 0 e numDados igualmente espaçados\n",
    "x = np.linspace(1, numDados, numDados)\n",
    " \n",
    "#cria o gráfico\n",
    "plt.plot(x, y, '-')\n",
    "plt.show()"
   ]
  },
  {
   "cell_type": "markdown",
   "metadata": {},
   "source": [
    "Ou seja, o programa gerou 1000 pontos entre -1 e 1, a pergunta agora é qual é a probabilidade de encotrar um número entre 0.1 e 0.2? Para responder isso devemos dividir o intervalo $[-1,1)$ em pequenos intevalinhos de tamanho 0.1 e contar quantos números caim nesse no intervalo que queremos (no caso entre 0.1 e 0.2), afortunadamente isto é relativamente simples utilizando matplotlib, basta utilizar a função hist e pedir que seja feito 20 intervalos ($(1.0 - (-1.0))/0.1 = 20$):"
   ]
  },
  {
   "cell_type": "code",
   "execution_count": 32,
   "metadata": {},
   "outputs": [
    {
     "data": {
      "image/png": "[encoded data removed]",
      "text/plain": [
       "<Figure size 432x288 with 1 Axes>"
      ]
     },
     "metadata": {},
     "output_type": "display_data"
    }
   ],
   "source": [
    "#!/usr/bin/env python\n",
    "#-*- coding: utf-8 -*-\n",
    " \n",
    "import numpy as np\n",
    "import matplotlib as mpl\n",
    "import matplotlib.pyplot as plt\n",
    " \n",
    "xi       = -1.0\n",
    "xf       = 1.0\n",
    "numDados = 1000\n",
    "semente  = 4727\n",
    " \n",
    "#iniciando o gerador\n",
    "conjAleaNum = np.random.RandomState(seed=semente)\n",
    " \n",
    "#gera os número\n",
    "y = conjAleaNum.uniform(low=xi, high=xf, size=numDados)\n",
    " \n",
    "#cria numDados entre 0 e numDados igualmente espaçados\n",
    "x = np.linspace(1, numDados, numDados)\n",
    " \n",
    "plt.hist(y, bins=20)\n",
    "plt.show()"
   ]
  },
  {
   "cell_type": "markdown",
   "metadata": {},
   "source": [
    "A outra distribuição muito utilizada em física é a distribuição gaussiana ou normal que tem a forma funcional: \\[ p(x) = \\frac{1}{\\sqrt{ 2 \\pi \\sigma^2 }} e^{ - \\frac{ (x - \\mu)^2 } {2 \\sigma^2} } \\nonumber \\] onde $\\sigma$ é a largura da gaussiana e $\\mu$ onde ela está centrada. O script a seguir mostra como implementar com numpy a geração de pontos que respeitem o comportamento gaussiano:"
   ]
  },
  {
   "cell_type": "code",
   "execution_count": 33,
   "metadata": {},
   "outputs": [
    {
     "data": {
      "image/png": "[encoded data removed]",
      "text/plain": [
       "<Figure size 432x288 with 1 Axes>"
      ]
     },
     "metadata": {},
     "output_type": "display_data"
    }
   ],
   "source": [
    "#!/usr/bin/env python\n",
    "#-*- coding: utf-8 -*-\n",
    " \n",
    "import numpy as np\n",
    "import matplotlib as mpl\n",
    "import matplotlib.pyplot as plt\n",
    " \n",
    "centro   = 0.0\n",
    "largura  = 1.0\n",
    "numDados = 1000\n",
    "semente  = 4727\n",
    " \n",
    "#iniciando o gerador\n",
    "conjAleaNum = np.random.RandomState(seed=semente)\n",
    " \n",
    "#gera os número\n",
    "y = conjAleaNum.normal(loc=centro, scale=largura, size=numDados)\n",
    " \n",
    "#cria numDados entre 0 e numDados igualmente espaçados\n",
    "x = np.linspace(1, numDados, numDados)\n",
    " \n",
    "plt.hist(y, bins=20)\n",
    "plt.show()"
   ]
  },
  {
   "cell_type": "code",
   "execution_count": null,
   "metadata": {},
   "outputs": [],
   "source": []
  }
 ],
 "metadata": {
  "kernelspec": {
   "display_name": "Python 3",
   "language": "python",
   "name": "python3"
  },
  "language_info": {
   "codemirror_mode": {
    "name": "ipython",
    "version": 3
   },
   "file_extension": ".py",
   "mimetype": "text/x-python",
   "name": "python",
   "nbconvert_exporter": "python",
   "pygments_lexer": "ipython3",
   "version": "3.6.6"
  }
 },
 "nbformat": 4,
 "nbformat_minor": 2
}
