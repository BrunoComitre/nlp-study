{
 "cells": [
  {
   "cell_type": "markdown",
   "metadata": {},
   "source": [
    "# Determinante de uma matriz\n",
    "\n",
    "Em matemática, determinante é uma função matricial que associa a cada matriz quadrada um escalar; ela transforma essa matriz em um número real. [Wikipedia](https://pt.wikipedia.org/wiki/Determinante)"
   ]
  },
  {
   "cell_type": "markdown",
   "metadata": {},
   "source": [
    "O determinante de uma matriz quadrada de ordem 2\n",
    " \n",
    "$\n",
    "\\left(\\begin{array}{cc} \n",
    "A11 & A12 \\\\\n",
    "A21 & A22\n",
    "\\end{array}\\right)\n",
    "$\n",
    "\n",
    "é dado pela seguinte fórmula:\n",
    "\n",
    "$\n",
    "D\\left(\\begin{array}{cc} \n",
    "A11 & A12 \\\\\n",
    "A21 & A22\n",
    "\\end{array}\\right)\n",
    "$\n",
    "= A11 * A22 - A12 * A 21\n",
    "\n",
    "Escreva uma função para calcular o determinante de uma matriz quadrada de ordem 2."
   ]
  },
  {
   "cell_type": "code",
   "execution_count": null,
   "metadata": {},
   "outputs": [],
   "source": []
  }
 ],
 "metadata": {
  "kernelspec": {
   "display_name": "Python 3",
   "language": "python",
   "name": "python3"
  },
  "language_info": {
   "codemirror_mode": {
    "name": "ipython",
    "version": 3
   },
   "file_extension": ".py",
   "mimetype": "text/x-python",
   "name": "python",
   "nbconvert_exporter": "python",
   "pygments_lexer": "ipython3",
   "version": "3.6.6"
  }
 },
 "nbformat": 4,
 "nbformat_minor": 2
}
