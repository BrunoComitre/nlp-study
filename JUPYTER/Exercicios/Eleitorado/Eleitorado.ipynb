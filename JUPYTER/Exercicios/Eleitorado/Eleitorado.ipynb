{
 "cells": [
  {
   "cell_type": "markdown",
   "metadata": {},
   "source": [
    "# Exercício 3\n",
    "\n",
    "## Utilizando o exercício final do módulo anterior do curso como base, considere o arquivo BR_eleitorado_2016_municipio.csv que contém dados segmentados por município, estado da federação, faixas etárias e gêneros.\n",
    "\n",
    "## 1 - Leia o arquivo em um DataFrame e a partir dele, gere um arquivo csv, ordenado por uf e cod_municipio_tse com todas as linhas do arquivo anterior, EXCETO as linhas referentes aos estados da região sudeste do país, que deverão ser exportadas em um arquivo no formato MS Excel de nome (Sudeste.xlsx) sendo cada estado em uma *sheet* com o nome do estado correspondente.\n",
    "\n",
    "## 2 - Baseado no número de eleitores entre 35 e 44 anos gere um arquivo JSON com nome 35_44_2016_stat.json com as seguintes informações estatísticas:\n",
    "- #### Média aritmética\n",
    "- #### Mediana\n",
    "- #### Variância\n",
    "- #### Desvio Padrão\n",
    "\n",
    "## 3 - Crie e imprima na tela um DataFrame que demonstre a prevalência entre eleitores homens e mulheres por estado."
   ]
  },
  {
   "cell_type": "code",
   "execution_count": null,
   "metadata": {},
   "outputs": [],
   "source": []
  }
 ],
 "metadata": {
  "kernelspec": {
   "display_name": "Python 3",
   "language": "python",
   "name": "python3"
  },
  "language_info": {
   "codemirror_mode": {
    "name": "ipython",
    "version": 3
   },
   "file_extension": ".py",
   "mimetype": "text/x-python",
   "name": "python",
   "nbconvert_exporter": "python",
   "pygments_lexer": "ipython3",
   "version": "3.6.6"
  }
 },
 "nbformat": 4,
 "nbformat_minor": 2
}
