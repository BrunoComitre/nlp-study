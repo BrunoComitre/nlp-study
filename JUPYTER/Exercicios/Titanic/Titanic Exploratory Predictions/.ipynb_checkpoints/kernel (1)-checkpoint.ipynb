{
 "cells": [
  {
   "cell_type": "code",
   "execution_count": 1,
   "metadata": {
    "_cell_guid": "b1076dfc-b9ad-4769-8c92-a6c4dae69d19",
    "_uuid": "8f2839f25d086af736a60e9eeb907d3b93b6e0e5"
   },
   "outputs": [],
   "source": [
    "import numpy as np\n",
    "import pandas as pd\n",
    "import matplotlib.pyplot as plt"
   ]
  },
  {
   "cell_type": "markdown",
   "metadata": {
    "_cell_guid": "79c7e3d0-c299-4dcb-8224-4455121ee9b0",
    "_uuid": "d629ff2d2480ee46fbb7e2d37f6b5fab8052498a",
    "collapsed": true
   },
   "source": [
    "**Load data**"
   ]
  },
  {
   "cell_type": "code",
   "execution_count": 2,
   "metadata": {
    "_uuid": "1a88fc19a66b095e5ea729b3803dde549eb6b855"
   },
   "outputs": [],
   "source": [
    "dataset=pd.read_csv('train.csv')\n",
    "testset=pd.read_csv('test.csv')"
   ]
  },
  {
   "cell_type": "markdown",
   "metadata": {
    "_uuid": "0063345ef66b71ff5d0dce3cd98edc77040041cc",
    "collapsed": true
   },
   "source": [
    "**Observe the dataset**"
   ]
  },
  {
   "cell_type": "code",
   "execution_count": 3,
   "metadata": {
    "_uuid": "4663212d6dde619e4284af971c19025ae6c76d7e"
   },
   "outputs": [
    {
     "data": {
      "text/plain": [
       "Index(['PassengerId', 'Survived', 'Pclass', 'Name', 'Sex', 'Age', 'SibSp',\n",
       "       'Parch', 'Ticket', 'Fare', 'Cabin', 'Embarked'],\n",
       "      dtype='object')"
      ]
     },
     "execution_count": 3,
     "metadata": {},
     "output_type": "execute_result"
    }
   ],
   "source": [
    "dataset.columns"
   ]
  },
  {
   "cell_type": "code",
   "execution_count": 4,
   "metadata": {
    "_uuid": "0a49286879d603492b44a3d63e4f4e23e173d156"
   },
   "outputs": [
    {
     "name": "stdout",
     "output_type": "stream",
     "text": [
      "(891, 12) (418, 11)\n"
     ]
    },
    {
     "data": {
      "text/html": [
       "<div>\n",
       "<style scoped>\n",
       "    .dataframe tbody tr th:only-of-type {\n",
       "        vertical-align: middle;\n",
       "    }\n",
       "\n",
       "    .dataframe tbody tr th {\n",
       "        vertical-align: top;\n",
       "    }\n",
       "\n",
       "    .dataframe thead th {\n",
       "        text-align: right;\n",
       "    }\n",
       "</style>\n",
       "<table border=\"1\" class=\"dataframe\">\n",
       "  <thead>\n",
       "    <tr style=\"text-align: right;\">\n",
       "      <th></th>\n",
       "      <th>PassengerId</th>\n",
       "      <th>Survived</th>\n",
       "      <th>Pclass</th>\n",
       "      <th>Name</th>\n",
       "      <th>Sex</th>\n",
       "      <th>Age</th>\n",
       "      <th>SibSp</th>\n",
       "      <th>Parch</th>\n",
       "      <th>Ticket</th>\n",
       "      <th>Fare</th>\n",
       "      <th>Cabin</th>\n",
       "      <th>Embarked</th>\n",
       "    </tr>\n",
       "  </thead>\n",
       "  <tbody>\n",
       "    <tr>\n",
       "      <th>0</th>\n",
       "      <td>1</td>\n",
       "      <td>0</td>\n",
       "      <td>3</td>\n",
       "      <td>Braund, Mr. Owen Harris</td>\n",
       "      <td>male</td>\n",
       "      <td>22.0</td>\n",
       "      <td>1</td>\n",
       "      <td>0</td>\n",
       "      <td>A/5 21171</td>\n",
       "      <td>7.2500</td>\n",
       "      <td>NaN</td>\n",
       "      <td>S</td>\n",
       "    </tr>\n",
       "    <tr>\n",
       "      <th>1</th>\n",
       "      <td>2</td>\n",
       "      <td>1</td>\n",
       "      <td>1</td>\n",
       "      <td>Cumings, Mrs. John Bradley (Florence Briggs Th...</td>\n",
       "      <td>female</td>\n",
       "      <td>38.0</td>\n",
       "      <td>1</td>\n",
       "      <td>0</td>\n",
       "      <td>PC 17599</td>\n",
       "      <td>71.2833</td>\n",
       "      <td>C85</td>\n",
       "      <td>C</td>\n",
       "    </tr>\n",
       "    <tr>\n",
       "      <th>2</th>\n",
       "      <td>3</td>\n",
       "      <td>1</td>\n",
       "      <td>3</td>\n",
       "      <td>Heikkinen, Miss. Laina</td>\n",
       "      <td>female</td>\n",
       "      <td>26.0</td>\n",
       "      <td>0</td>\n",
       "      <td>0</td>\n",
       "      <td>STON/O2. 3101282</td>\n",
       "      <td>7.9250</td>\n",
       "      <td>NaN</td>\n",
       "      <td>S</td>\n",
       "    </tr>\n",
       "    <tr>\n",
       "      <th>3</th>\n",
       "      <td>4</td>\n",
       "      <td>1</td>\n",
       "      <td>1</td>\n",
       "      <td>Futrelle, Mrs. Jacques Heath (Lily May Peel)</td>\n",
       "      <td>female</td>\n",
       "      <td>35.0</td>\n",
       "      <td>1</td>\n",
       "      <td>0</td>\n",
       "      <td>113803</td>\n",
       "      <td>53.1000</td>\n",
       "      <td>C123</td>\n",
       "      <td>S</td>\n",
       "    </tr>\n",
       "    <tr>\n",
       "      <th>4</th>\n",
       "      <td>5</td>\n",
       "      <td>0</td>\n",
       "      <td>3</td>\n",
       "      <td>Allen, Mr. William Henry</td>\n",
       "      <td>male</td>\n",
       "      <td>35.0</td>\n",
       "      <td>0</td>\n",
       "      <td>0</td>\n",
       "      <td>373450</td>\n",
       "      <td>8.0500</td>\n",
       "      <td>NaN</td>\n",
       "      <td>S</td>\n",
       "    </tr>\n",
       "  </tbody>\n",
       "</table>\n",
       "</div>"
      ],
      "text/plain": [
       "   PassengerId  Survived  Pclass  \\\n",
       "0            1         0       3   \n",
       "1            2         1       1   \n",
       "2            3         1       3   \n",
       "3            4         1       1   \n",
       "4            5         0       3   \n",
       "\n",
       "                                                Name     Sex   Age  SibSp  \\\n",
       "0                            Braund, Mr. Owen Harris    male  22.0      1   \n",
       "1  Cumings, Mrs. John Bradley (Florence Briggs Th...  female  38.0      1   \n",
       "2                             Heikkinen, Miss. Laina  female  26.0      0   \n",
       "3       Futrelle, Mrs. Jacques Heath (Lily May Peel)  female  35.0      1   \n",
       "4                           Allen, Mr. William Henry    male  35.0      0   \n",
       "\n",
       "   Parch            Ticket     Fare Cabin Embarked  \n",
       "0      0         A/5 21171   7.2500   NaN        S  \n",
       "1      0          PC 17599  71.2833   C85        C  \n",
       "2      0  STON/O2. 3101282   7.9250   NaN        S  \n",
       "3      0            113803  53.1000  C123        S  \n",
       "4      0            373450   8.0500   NaN        S  "
      ]
     },
     "execution_count": 4,
     "metadata": {},
     "output_type": "execute_result"
    }
   ],
   "source": [
    "print(dataset.shape, testset.shape)\n",
    "dataset.head()"
   ]
  },
  {
   "cell_type": "code",
   "execution_count": 5,
   "metadata": {
    "_uuid": "b344b47a4022e0167748eb0995d0fb36aa8797fe"
   },
   "outputs": [
    {
     "name": "stdout",
     "output_type": "stream",
     "text": [
      "<class 'pandas.core.frame.DataFrame'>\n",
      "RangeIndex: 891 entries, 0 to 890\n",
      "Data columns (total 12 columns):\n",
      "PassengerId    891 non-null int64\n",
      "Survived       891 non-null int64\n",
      "Pclass         891 non-null int64\n",
      "Name           891 non-null object\n",
      "Sex            891 non-null object\n",
      "Age            714 non-null float64\n",
      "SibSp          891 non-null int64\n",
      "Parch          891 non-null int64\n",
      "Ticket         891 non-null object\n",
      "Fare           891 non-null float64\n",
      "Cabin          204 non-null object\n",
      "Embarked       889 non-null object\n",
      "dtypes: float64(2), int64(5), object(5)\n",
      "memory usage: 83.6+ KB\n"
     ]
    }
   ],
   "source": [
    "dataset.info()"
   ]
  },
  {
   "cell_type": "code",
   "execution_count": 6,
   "metadata": {
    "_uuid": "fb1d2d65f50fdaba2a5fac9302c31d3fd1d3f949"
   },
   "outputs": [
    {
     "data": {
      "text/plain": [
       "PassengerId      int64\n",
       "Survived         int64\n",
       "Pclass           int64\n",
       "Name            object\n",
       "Sex             object\n",
       "Age            float64\n",
       "SibSp            int64\n",
       "Parch            int64\n",
       "Ticket          object\n",
       "Fare           float64\n",
       "Cabin           object\n",
       "Embarked        object\n",
       "dtype: object"
      ]
     },
     "execution_count": 6,
     "metadata": {},
     "output_type": "execute_result"
    }
   ],
   "source": [
    "dataset.dtypes"
   ]
  },
  {
   "cell_type": "code",
   "execution_count": 7,
   "metadata": {
    "_uuid": "cdba59d2122176fff0bd9f38ed9c45a761f25fd2"
   },
   "outputs": [
    {
     "data": {
      "text/html": [
       "<div>\n",
       "<style scoped>\n",
       "    .dataframe tbody tr th:only-of-type {\n",
       "        vertical-align: middle;\n",
       "    }\n",
       "\n",
       "    .dataframe tbody tr th {\n",
       "        vertical-align: top;\n",
       "    }\n",
       "\n",
       "    .dataframe thead th {\n",
       "        text-align: right;\n",
       "    }\n",
       "</style>\n",
       "<table border=\"1\" class=\"dataframe\">\n",
       "  <thead>\n",
       "    <tr style=\"text-align: right;\">\n",
       "      <th></th>\n",
       "      <th>PassengerId</th>\n",
       "      <th>Survived</th>\n",
       "      <th>Pclass</th>\n",
       "      <th>Age</th>\n",
       "      <th>SibSp</th>\n",
       "      <th>Parch</th>\n",
       "      <th>Fare</th>\n",
       "    </tr>\n",
       "  </thead>\n",
       "  <tbody>\n",
       "    <tr>\n",
       "      <th>count</th>\n",
       "      <td>891.000000</td>\n",
       "      <td>891.000000</td>\n",
       "      <td>891.000000</td>\n",
       "      <td>714.000000</td>\n",
       "      <td>891.000000</td>\n",
       "      <td>891.000000</td>\n",
       "      <td>891.000000</td>\n",
       "    </tr>\n",
       "    <tr>\n",
       "      <th>mean</th>\n",
       "      <td>446.000000</td>\n",
       "      <td>0.383838</td>\n",
       "      <td>2.308642</td>\n",
       "      <td>29.699118</td>\n",
       "      <td>0.523008</td>\n",
       "      <td>0.381594</td>\n",
       "      <td>32.204208</td>\n",
       "    </tr>\n",
       "    <tr>\n",
       "      <th>std</th>\n",
       "      <td>257.353842</td>\n",
       "      <td>0.486592</td>\n",
       "      <td>0.836071</td>\n",
       "      <td>14.526497</td>\n",
       "      <td>1.102743</td>\n",
       "      <td>0.806057</td>\n",
       "      <td>49.693429</td>\n",
       "    </tr>\n",
       "    <tr>\n",
       "      <th>min</th>\n",
       "      <td>1.000000</td>\n",
       "      <td>0.000000</td>\n",
       "      <td>1.000000</td>\n",
       "      <td>0.420000</td>\n",
       "      <td>0.000000</td>\n",
       "      <td>0.000000</td>\n",
       "      <td>0.000000</td>\n",
       "    </tr>\n",
       "    <tr>\n",
       "      <th>25%</th>\n",
       "      <td>223.500000</td>\n",
       "      <td>0.000000</td>\n",
       "      <td>2.000000</td>\n",
       "      <td>20.125000</td>\n",
       "      <td>0.000000</td>\n",
       "      <td>0.000000</td>\n",
       "      <td>7.910400</td>\n",
       "    </tr>\n",
       "    <tr>\n",
       "      <th>50%</th>\n",
       "      <td>446.000000</td>\n",
       "      <td>0.000000</td>\n",
       "      <td>3.000000</td>\n",
       "      <td>28.000000</td>\n",
       "      <td>0.000000</td>\n",
       "      <td>0.000000</td>\n",
       "      <td>14.454200</td>\n",
       "    </tr>\n",
       "    <tr>\n",
       "      <th>75%</th>\n",
       "      <td>668.500000</td>\n",
       "      <td>1.000000</td>\n",
       "      <td>3.000000</td>\n",
       "      <td>38.000000</td>\n",
       "      <td>1.000000</td>\n",
       "      <td>0.000000</td>\n",
       "      <td>31.000000</td>\n",
       "    </tr>\n",
       "    <tr>\n",
       "      <th>max</th>\n",
       "      <td>891.000000</td>\n",
       "      <td>1.000000</td>\n",
       "      <td>3.000000</td>\n",
       "      <td>80.000000</td>\n",
       "      <td>8.000000</td>\n",
       "      <td>6.000000</td>\n",
       "      <td>512.329200</td>\n",
       "    </tr>\n",
       "  </tbody>\n",
       "</table>\n",
       "</div>"
      ],
      "text/plain": [
       "       PassengerId    Survived      Pclass         Age       SibSp  \\\n",
       "count   891.000000  891.000000  891.000000  714.000000  891.000000   \n",
       "mean    446.000000    0.383838    2.308642   29.699118    0.523008   \n",
       "std     257.353842    0.486592    0.836071   14.526497    1.102743   \n",
       "min       1.000000    0.000000    1.000000    0.420000    0.000000   \n",
       "25%     223.500000    0.000000    2.000000   20.125000    0.000000   \n",
       "50%     446.000000    0.000000    3.000000   28.000000    0.000000   \n",
       "75%     668.500000    1.000000    3.000000   38.000000    1.000000   \n",
       "max     891.000000    1.000000    3.000000   80.000000    8.000000   \n",
       "\n",
       "            Parch        Fare  \n",
       "count  891.000000  891.000000  \n",
       "mean     0.381594   32.204208  \n",
       "std      0.806057   49.693429  \n",
       "min      0.000000    0.000000  \n",
       "25%      0.000000    7.910400  \n",
       "50%      0.000000   14.454200  \n",
       "75%      0.000000   31.000000  \n",
       "max      6.000000  512.329200  "
      ]
     },
     "execution_count": 7,
     "metadata": {},
     "output_type": "execute_result"
    }
   ],
   "source": [
    "dataset.describe()"
   ]
  },
  {
   "cell_type": "markdown",
   "metadata": {
    "_uuid": "2e58dc0acb01f167c27ffe76d582824c87b570a1",
    "collapsed": true
   },
   "source": [
    "**Feature selection**"
   ]
  },
  {
   "cell_type": "code",
   "execution_count": 8,
   "metadata": {
    "_uuid": "8f4f7f55b2adeb5039baea32d3f5811f46f36534"
   },
   "outputs": [
    {
     "name": "stdout",
     "output_type": "stream",
     "text": [
      "1    38.0\n",
      "2    26.0\n",
      "3    35.0\n",
      "4    35.0\n",
      "5     NaN\n",
      "6    54.0\n",
      "7     2.0\n",
      "8    27.0\n",
      "9    14.0\n",
      "Name: Age, dtype: float64\n"
     ]
    },
    {
     "data": {
      "image/png": "[encoded data removed]",
      "text/plain": [
       "<Figure size 432x288 with 1 Axes>"
      ]
     },
     "metadata": {
      "needs_background": "light"
     },
     "output_type": "display_data"
    }
   ],
   "source": [
    "print(dataset.Age[1:10]) # observe feature 'Age'\n",
    "dataset.Age.hist()\n",
    "plt.xlabel('Age')\n",
    "plt.ylabel('Number')\n",
    "plt.show()"
   ]
  },
  {
   "cell_type": "code",
   "execution_count": 9,
   "metadata": {
    "_uuid": "70867a09aa4128207b20952654fba15e934755d6"
   },
   "outputs": [
    {
     "data": {
      "image/png": "[encoded data removed]",
      "text/plain": [
       "<Figure size 432x288 with 1 Axes>"
      ]
     },
     "metadata": {
      "needs_background": "light"
     },
     "output_type": "display_data"
    },
    {
     "data": {
      "image/png": "[encoded data removed]",
      "text/plain": [
       "<Figure size 432x288 with 1 Axes>"
      ]
     },
     "metadata": {
      "needs_background": "light"
     },
     "output_type": "display_data"
    }
   ],
   "source": [
    "dataset[dataset.Survived==0]['Age'].hist()  \n",
    "plt.ylabel(\"Number\") \n",
    "plt.xlabel(\"Age\") \n",
    "plt.title('Age distribution of not Survived')\n",
    "plt.show()\n",
    "\n",
    "dataset[dataset.Survived==1]['Age'].hist()  \n",
    "plt.ylabel(\"Number\") \n",
    "plt.xlabel(\"Age\") \n",
    "plt.title('Age distribution of Survived')\n",
    "plt.show()"
   ]
  },
  {
   "cell_type": "code",
   "execution_count": 10,
   "metadata": {
    "_uuid": "fc9cac861ba8bfcf712756c202cf44cd7de345f3"
   },
   "outputs": [
    {
     "data": {
      "image/png": "[encoded data removed]",
      "text/plain": [
       "<Figure size 432x288 with 1 Axes>"
      ]
     },
     "metadata": {
      "needs_background": "light"
     },
     "output_type": "display_data"
    }
   ],
   "source": [
    "# feature 'Sex'\n",
    "Survived_m = dataset.Survived[dataset.Sex == 'male'].value_counts()\n",
    "Survived_f = dataset.Survived[dataset.Sex == 'female'].value_counts()\n",
    "\n",
    "df=pd.DataFrame({'male':Survived_m, 'female':Survived_f})\n",
    "df.plot(kind='bar', stacked=True)\n",
    "plt.title(\"survived by sex\")\n",
    "plt.xlabel(\"sex\") \n",
    "plt.ylabel(\"count\")\n",
    "plt.show()"
   ]
  },
  {
   "cell_type": "code",
   "execution_count": 11,
   "metadata": {
    "_uuid": "82818a2099ce05dd64fe584fbae274a0e7a0b609"
   },
   "outputs": [
    {
     "data": {
      "image/png": "[encoded data removed]",
      "text/plain": [
       "<Figure size 432x288 with 1 Axes>"
      ]
     },
     "metadata": {
      "needs_background": "light"
     },
     "output_type": "display_data"
    }
   ],
   "source": [
    "dataset['Fare'].hist()  # feature 'Fare'\n",
    "plt.ylabel(\"Number\") \n",
    "plt.xlabel(\"Fare\") \n",
    "plt.title('Fare distribution')\n",
    "plt.show()"
   ]
  },
  {
   "cell_type": "code",
   "execution_count": 12,
   "metadata": {
    "_uuid": "9ef57e5c1d8e41ba727089b83080c02f49129fc9"
   },
   "outputs": [
    {
     "name": "stdout",
     "output_type": "stream",
     "text": [
      "    p1  p2   p3\n",
      "0   80  97  372\n",
      "1  136  87  119\n"
     ]
    },
    {
     "data": {
      "image/png": "[encoded data removed]",
      "text/plain": [
       "<Figure size 432x288 with 1 Axes>"
      ]
     },
     "metadata": {
      "needs_background": "light"
     },
     "output_type": "display_data"
    }
   ],
   "source": [
    "# feature 'Pclass'\n",
    "Survived_p1 = dataset.Survived[dataset['Pclass'] == 1].value_counts()\n",
    "Survived_p2 = dataset.Survived[dataset['Pclass'] == 2].value_counts()\n",
    "Survived_p3 = dataset.Survived[dataset['Pclass'] == 3].value_counts()\n",
    "\n",
    "df=pd.DataFrame({'p1':Survived_p1, 'p2':Survived_p2, 'p3':Survived_p3})\n",
    "print(df)\n",
    "df.plot(kind='bar', stacked=True)\n",
    "plt.title(\"survived by pclass\")\n",
    "plt.xlabel(\"pclass\") \n",
    "plt.ylabel(\"count\")\n",
    "plt.show()"
   ]
  },
  {
   "cell_type": "code",
   "execution_count": 13,
   "metadata": {
    "_uuid": "e142f023d5b021680f8ce75d437708c6bbc9f158"
   },
   "outputs": [
    {
     "name": "stdout",
     "output_type": "stream",
     "text": [
      "0    427\n",
      "1    217\n",
      "Name: Survived, dtype: int64\n"
     ]
    },
    {
     "data": {
      "image/png": "[encoded data removed]",
      "text/plain": [
       "<Figure size 432x288 with 1 Axes>"
      ]
     },
     "metadata": {
      "needs_background": "light"
     },
     "output_type": "display_data"
    }
   ],
   "source": [
    "# feature 'Embarked'\n",
    "Survived_S = dataset.Survived[dataset['Embarked'] == 'S'].value_counts()\n",
    "Survived_C = dataset.Survived[dataset['Embarked'] == 'C'].value_counts()\n",
    "Survived_Q = dataset.Survived[dataset['Embarked'] == 'Q'].value_counts()\n",
    "\n",
    "print(Survived_S)\n",
    "df = pd.DataFrame({'S':Survived_S, 'C':Survived_C, 'Q':Survived_Q})\n",
    "df.plot(kind='bar', stacked=True)\n",
    "plt.title(\"survived by sex\")\n",
    "plt.xlabel(\"Embarked\") \n",
    "plt.ylabel(\"count\")\n",
    "plt.show()"
   ]
  },
  {
   "cell_type": "markdown",
   "metadata": {
    "_uuid": "282b996dd5d1843ff9d37c88fbcd98d53df382c4"
   },
   "source": [
    "**Based on above we are gonna keep those features:  Age, Pclass, Sex, Fare, Embarked**"
   ]
  },
  {
   "cell_type": "code",
   "execution_count": 14,
   "metadata": {
    "_uuid": "6789ac64ec9797c721bead33bb771f6cb57526ab"
   },
   "outputs": [
    {
     "name": "stdout",
     "output_type": "stream",
     "text": [
      "(891, 5)\n",
      "     Pclass     Sex   Age      Fare Embarked\n",
      "0         3    male  22.0    7.2500        S\n",
      "1         1  female  38.0   71.2833        C\n",
      "2         3  female  26.0    7.9250        S\n",
      "3         1  female  35.0   53.1000        S\n",
      "4         3    male  35.0    8.0500        S\n",
      "5         3    male   NaN    8.4583        Q\n",
      "6         1    male  54.0   51.8625        S\n",
      "7         3    male   2.0   21.0750        S\n",
      "8         3  female  27.0   11.1333        S\n",
      "9         2  female  14.0   30.0708        C\n",
      "10        3  female   4.0   16.7000        S\n",
      "11        1  female  58.0   26.5500        S\n",
      "12        3    male  20.0    8.0500        S\n",
      "13        3    male  39.0   31.2750        S\n",
      "14        3  female  14.0    7.8542        S\n",
      "15        2  female  55.0   16.0000        S\n",
      "16        3    male   2.0   29.1250        Q\n",
      "17        2    male   NaN   13.0000        S\n",
      "18        3  female  31.0   18.0000        S\n",
      "19        3  female   NaN    7.2250        C\n",
      "20        2    male  35.0   26.0000        S\n",
      "21        2    male  34.0   13.0000        S\n",
      "22        3  female  15.0    8.0292        Q\n",
      "23        1    male  28.0   35.5000        S\n",
      "24        3  female   8.0   21.0750        S\n",
      "25        3  female  38.0   31.3875        S\n",
      "26        3    male   NaN    7.2250        C\n",
      "27        1    male  19.0  263.0000        S\n",
      "28        3  female   NaN    7.8792        Q\n",
      "29        3    male   NaN    7.8958        S\n",
      "..      ...     ...   ...       ...      ...\n",
      "861       2    male  21.0   11.5000        S\n",
      "862       1  female  48.0   25.9292        S\n",
      "863       3  female   NaN   69.5500        S\n",
      "864       2    male  24.0   13.0000        S\n",
      "865       2  female  42.0   13.0000        S\n",
      "866       2  female  27.0   13.8583        C\n",
      "867       1    male  31.0   50.4958        S\n",
      "868       3    male   NaN    9.5000        S\n",
      "869       3    male   4.0   11.1333        S\n",
      "870       3    male  26.0    7.8958        S\n",
      "871       1  female  47.0   52.5542        S\n",
      "872       1    male  33.0    5.0000        S\n",
      "873       3    male  47.0    9.0000        S\n",
      "874       2  female  28.0   24.0000        C\n",
      "875       3  female  15.0    7.2250        C\n",
      "876       3    male  20.0    9.8458        S\n",
      "877       3    male  19.0    7.8958        S\n",
      "878       3    male   NaN    7.8958        S\n",
      "879       1  female  56.0   83.1583        C\n",
      "880       2  female  25.0   26.0000        S\n",
      "881       3    male  33.0    7.8958        S\n",
      "882       3  female  22.0   10.5167        S\n",
      "883       2    male  28.0   10.5000        S\n",
      "884       3    male  25.0    7.0500        S\n",
      "885       3  female  39.0   29.1250        Q\n",
      "886       2    male  27.0   13.0000        S\n",
      "887       1  female  19.0   30.0000        S\n",
      "888       3  female   NaN   23.4500        S\n",
      "889       1    male  26.0   30.0000        C\n",
      "890       3    male  32.0    7.7500        Q\n",
      "\n",
      "[891 rows x 5 columns]\n"
     ]
    }
   ],
   "source": [
    "# split label and features\n",
    "label=dataset.loc[:,'Survived']\n",
    "featured_data=dataset.loc[:,['Pclass', 'Sex', 'Age', 'Fare', 'Embarked']]\n",
    "testdat=testset.loc[:,['Pclass', 'Sex', 'Age', 'Fare', 'Embarked']]\n",
    "\n",
    "print(featured_data.shape)\n",
    "print(featured_data)"
   ]
  },
  {
   "cell_type": "markdown",
   "metadata": {
    "_uuid": "09a15fbd8cc572fb51be1acf3a76248d76f98d00"
   },
   "source": [
    "**Processing empty data**"
   ]
  },
  {
   "cell_type": "code",
   "execution_count": 15,
   "metadata": {
    "_uuid": "d1d370c261ec219277f9493ad13a7195fb7e4972"
   },
   "outputs": [
    {
     "name": "stdout",
     "output_type": "stream",
     "text": [
      "True\n",
      "False\n",
      "True\n",
      "False\n",
      "     Pclass     Sex   Age      Fare Embarked\n",
      "0         3    male  22.0    7.2500        S\n",
      "1         1  female  38.0   71.2833        C\n",
      "2         3  female  26.0    7.9250        S\n",
      "3         1  female  35.0   53.1000        S\n",
      "4         3    male  35.0    8.0500        S\n",
      "5         3    male  28.0    8.4583        Q\n",
      "6         1    male  54.0   51.8625        S\n",
      "7         3    male   2.0   21.0750        S\n",
      "8         3  female  27.0   11.1333        S\n",
      "9         2  female  14.0   30.0708        C\n",
      "10        3  female   4.0   16.7000        S\n",
      "11        1  female  58.0   26.5500        S\n",
      "12        3    male  20.0    8.0500        S\n",
      "13        3    male  39.0   31.2750        S\n",
      "14        3  female  14.0    7.8542        S\n",
      "15        2  female  55.0   16.0000        S\n",
      "16        3    male   2.0   29.1250        Q\n",
      "17        2    male  28.0   13.0000        S\n",
      "18        3  female  31.0   18.0000        S\n",
      "19        3  female  28.0    7.2250        C\n",
      "20        2    male  35.0   26.0000        S\n",
      "21        2    male  34.0   13.0000        S\n",
      "22        3  female  15.0    8.0292        Q\n",
      "23        1    male  28.0   35.5000        S\n",
      "24        3  female   8.0   21.0750        S\n",
      "25        3  female  38.0   31.3875        S\n",
      "26        3    male  28.0    7.2250        C\n",
      "27        1    male  19.0  263.0000        S\n",
      "28        3  female  28.0    7.8792        Q\n",
      "29        3    male  28.0    7.8958        S\n",
      "..      ...     ...   ...       ...      ...\n",
      "861       2    male  21.0   11.5000        S\n",
      "862       1  female  48.0   25.9292        S\n",
      "863       3  female  28.0   69.5500        S\n",
      "864       2    male  24.0   13.0000        S\n",
      "865       2  female  42.0   13.0000        S\n",
      "866       2  female  27.0   13.8583        C\n",
      "867       1    male  31.0   50.4958        S\n",
      "868       3    male  28.0    9.5000        S\n",
      "869       3    male   4.0   11.1333        S\n",
      "870       3    male  26.0    7.8958        S\n",
      "871       1  female  47.0   52.5542        S\n",
      "872       1    male  33.0    5.0000        S\n",
      "873       3    male  47.0    9.0000        S\n",
      "874       2  female  28.0   24.0000        C\n",
      "875       3  female  15.0    7.2250        C\n",
      "876       3    male  20.0    9.8458        S\n",
      "877       3    male  19.0    7.8958        S\n",
      "878       3    male  28.0    7.8958        S\n",
      "879       1  female  56.0   83.1583        C\n",
      "880       2  female  25.0   26.0000        S\n",
      "881       3    male  33.0    7.8958        S\n",
      "882       3  female  22.0   10.5167        S\n",
      "883       2    male  28.0   10.5000        S\n",
      "884       3    male  25.0    7.0500        S\n",
      "885       3  female  39.0   29.1250        Q\n",
      "886       2    male  27.0   13.0000        S\n",
      "887       1  female  19.0   30.0000        S\n",
      "888       3  female  28.0   23.4500        S\n",
      "889       1    male  26.0   30.0000        C\n",
      "890       3    male  32.0    7.7500        Q\n",
      "\n",
      "[891 rows x 5 columns]\n"
     ]
    }
   ],
   "source": [
    "def fill_NAN(data):  \n",
    "    data_copy = data.copy(deep=True)\n",
    "    data_copy.loc[:,'Age'] = data_copy['Age'].fillna(data_copy['Age'].median())\n",
    "    data_copy.loc[:,'Fare'] = data_copy['Fare'].fillna(data_copy['Fare'].median())\n",
    "    data_copy.loc[:,'Pclass'] = data_copy['Pclass'].fillna(data_copy['Pclass'].median())\n",
    "    data_copy.loc[:,'Sex'] = data_copy['Sex'].fillna('female')\n",
    "    data_copy.loc[:,'Embarked'] = data_copy['Embarked'].fillna('S')\n",
    "    return data_copy\n",
    "\n",
    "featured_data_no_nan = fill_NAN(featured_data)\n",
    "testdat_no_nan = fill_NAN(testdat)\n",
    "\n",
    "print(featured_data.isnull().values.any())   \n",
    "print(featured_data_no_nan.isnull().values.any())\n",
    "print(testdat.isnull().values.any())    \n",
    "print(testdat_no_nan.isnull().values.any())    \n",
    "\n",
    "print(featured_data_no_nan)"
   ]
  },
  {
   "cell_type": "markdown",
   "metadata": {
    "_uuid": "6f03202ec0ca82ec1ce4581fbdb3c0882c6399b5"
   },
   "source": [
    "**Deal with feature_columns**"
   ]
  },
  {
   "cell_type": "code",
   "execution_count": 16,
   "metadata": {
    "_uuid": "f16e331730228a630fdc050ddf3a20071bcd9e01"
   },
   "outputs": [
    {
     "name": "stdout",
     "output_type": "stream",
     "text": [
      "False\n",
      "     Pclass  Sex   Age      Fare Embarked\n",
      "0         3    1  22.0    7.2500        S\n",
      "1         1    0  38.0   71.2833        C\n",
      "2         3    0  26.0    7.9250        S\n",
      "3         1    0  35.0   53.1000        S\n",
      "4         3    1  35.0    8.0500        S\n",
      "5         3    1  28.0    8.4583        Q\n",
      "6         1    1  54.0   51.8625        S\n",
      "7         3    1   2.0   21.0750        S\n",
      "8         3    0  27.0   11.1333        S\n",
      "9         2    0  14.0   30.0708        C\n",
      "10        3    0   4.0   16.7000        S\n",
      "11        1    0  58.0   26.5500        S\n",
      "12        3    1  20.0    8.0500        S\n",
      "13        3    1  39.0   31.2750        S\n",
      "14        3    0  14.0    7.8542        S\n",
      "15        2    0  55.0   16.0000        S\n",
      "16        3    1   2.0   29.1250        Q\n",
      "17        2    1  28.0   13.0000        S\n",
      "18        3    0  31.0   18.0000        S\n",
      "19        3    0  28.0    7.2250        C\n",
      "20        2    1  35.0   26.0000        S\n",
      "21        2    1  34.0   13.0000        S\n",
      "22        3    0  15.0    8.0292        Q\n",
      "23        1    1  28.0   35.5000        S\n",
      "24        3    0   8.0   21.0750        S\n",
      "25        3    0  38.0   31.3875        S\n",
      "26        3    1  28.0    7.2250        C\n",
      "27        1    1  19.0  263.0000        S\n",
      "28        3    0  28.0    7.8792        Q\n",
      "29        3    1  28.0    7.8958        S\n",
      "..      ...  ...   ...       ...      ...\n",
      "861       2    1  21.0   11.5000        S\n",
      "862       1    0  48.0   25.9292        S\n",
      "863       3    0  28.0   69.5500        S\n",
      "864       2    1  24.0   13.0000        S\n",
      "865       2    0  42.0   13.0000        S\n",
      "866       2    0  27.0   13.8583        C\n",
      "867       1    1  31.0   50.4958        S\n",
      "868       3    1  28.0    9.5000        S\n",
      "869       3    1   4.0   11.1333        S\n",
      "870       3    1  26.0    7.8958        S\n",
      "871       1    0  47.0   52.5542        S\n",
      "872       1    1  33.0    5.0000        S\n",
      "873       3    1  47.0    9.0000        S\n",
      "874       2    0  28.0   24.0000        C\n",
      "875       3    0  15.0    7.2250        C\n",
      "876       3    1  20.0    9.8458        S\n",
      "877       3    1  19.0    7.8958        S\n",
      "878       3    1  28.0    7.8958        S\n",
      "879       1    0  56.0   83.1583        C\n",
      "880       2    0  25.0   26.0000        S\n",
      "881       3    1  33.0    7.8958        S\n",
      "882       3    0  22.0   10.5167        S\n",
      "883       2    1  28.0   10.5000        S\n",
      "884       3    1  25.0    7.0500        S\n",
      "885       3    0  39.0   29.1250        Q\n",
      "886       2    1  27.0   13.0000        S\n",
      "887       1    0  19.0   30.0000        S\n",
      "888       3    0  28.0   23.4500        S\n",
      "889       1    1  26.0   30.0000        C\n",
      "890       3    1  32.0    7.7500        Q\n",
      "\n",
      "[891 rows x 5 columns]\n"
     ]
    }
   ],
   "source": [
    "print(featured_data_no_nan['Sex'].isnull().values.any())\n",
    "\n",
    "def transfer_sex(data):\n",
    "    data_copy = data.copy(deep=True)\n",
    "    data_copy.loc[data_copy['Sex'] == 'female', 'Sex'] = 0\n",
    "    data_copy.loc[data_copy['Sex'] == 'male', 'Sex'] = 1\n",
    "    return data_copy\n",
    "\n",
    "featured_data_after_sex = transfer_sex(featured_data_no_nan)\n",
    "testdat_after_sex = transfer_sex(testdat_no_nan)\n",
    "print(featured_data_after_sex)"
   ]
  },
  {
   "cell_type": "code",
   "execution_count": 17,
   "metadata": {
    "_uuid": "04e9b4870389f62704bdc1465b535900efc86a0f"
   },
   "outputs": [
    {
     "name": "stdout",
     "output_type": "stream",
     "text": [
      "     Pclass  Sex   Age      Fare  Embarked\n",
      "0         3    1  22.0    7.2500         0\n",
      "1         1    0  38.0   71.2833         1\n",
      "2         3    0  26.0    7.9250         0\n",
      "3         1    0  35.0   53.1000         0\n",
      "4         3    1  35.0    8.0500         0\n",
      "5         3    1  28.0    8.4583         2\n",
      "6         1    1  54.0   51.8625         0\n",
      "7         3    1   2.0   21.0750         0\n",
      "8         3    0  27.0   11.1333         0\n",
      "9         2    0  14.0   30.0708         1\n",
      "10        3    0   4.0   16.7000         0\n",
      "11        1    0  58.0   26.5500         0\n",
      "12        3    1  20.0    8.0500         0\n",
      "13        3    1  39.0   31.2750         0\n",
      "14        3    0  14.0    7.8542         0\n",
      "15        2    0  55.0   16.0000         0\n",
      "16        3    1   2.0   29.1250         2\n",
      "17        2    1  28.0   13.0000         0\n",
      "18        3    0  31.0   18.0000         0\n",
      "19        3    0  28.0    7.2250         1\n",
      "20        2    1  35.0   26.0000         0\n",
      "21        2    1  34.0   13.0000         0\n",
      "22        3    0  15.0    8.0292         2\n",
      "23        1    1  28.0   35.5000         0\n",
      "24        3    0   8.0   21.0750         0\n",
      "25        3    0  38.0   31.3875         0\n",
      "26        3    1  28.0    7.2250         1\n",
      "27        1    1  19.0  263.0000         0\n",
      "28        3    0  28.0    7.8792         2\n",
      "29        3    1  28.0    7.8958         0\n",
      "..      ...  ...   ...       ...       ...\n",
      "861       2    1  21.0   11.5000         0\n",
      "862       1    0  48.0   25.9292         0\n",
      "863       3    0  28.0   69.5500         0\n",
      "864       2    1  24.0   13.0000         0\n",
      "865       2    0  42.0   13.0000         0\n",
      "866       2    0  27.0   13.8583         1\n",
      "867       1    1  31.0   50.4958         0\n",
      "868       3    1  28.0    9.5000         0\n",
      "869       3    1   4.0   11.1333         0\n",
      "870       3    1  26.0    7.8958         0\n",
      "871       1    0  47.0   52.5542         0\n",
      "872       1    1  33.0    5.0000         0\n",
      "873       3    1  47.0    9.0000         0\n",
      "874       2    0  28.0   24.0000         1\n",
      "875       3    0  15.0    7.2250         1\n",
      "876       3    1  20.0    9.8458         0\n",
      "877       3    1  19.0    7.8958         0\n",
      "878       3    1  28.0    7.8958         0\n",
      "879       1    0  56.0   83.1583         1\n",
      "880       2    0  25.0   26.0000         0\n",
      "881       3    1  33.0    7.8958         0\n",
      "882       3    0  22.0   10.5167         0\n",
      "883       2    1  28.0   10.5000         0\n",
      "884       3    1  25.0    7.0500         0\n",
      "885       3    0  39.0   29.1250         2\n",
      "886       2    1  27.0   13.0000         0\n",
      "887       1    0  19.0   30.0000         0\n",
      "888       3    0  28.0   23.4500         0\n",
      "889       1    1  26.0   30.0000         1\n",
      "890       3    1  32.0    7.7500         2\n",
      "\n",
      "[891 rows x 5 columns]\n"
     ]
    }
   ],
   "source": [
    "def transfer_embark(data):\n",
    "    data_copy = data.copy(deep=True)\n",
    "    data_copy.loc[data_copy['Embarked'] == 'S', 'Embarked'] = 0\n",
    "    data_copy.loc[data_copy['Embarked'] == 'C', 'Embarked'] = 1\n",
    "    data_copy.loc[data_copy['Embarked'] == 'Q', 'Embarked'] = 2\n",
    "    return data_copy\n",
    "\n",
    "featured_data_after_embarked = transfer_embark(featured_data_after_sex)\n",
    "testdat_after_embarked = transfer_embark(testdat_after_sex)\n",
    "print(featured_data_after_embarked)"
   ]
  },
  {
   "cell_type": "markdown",
   "metadata": {
    "_uuid": "7c8d2960ac462ed2983ea83bc31a9208384c0302"
   },
   "source": [
    "**After processing our training data, we begin to train our model**\n",
    "\n",
    "**First we do a train_test_split**"
   ]
  },
  {
   "cell_type": "code",
   "execution_count": 18,
   "metadata": {
    "_uuid": "ec20f59f5650c7666f9931ff0f75f717d42682a1"
   },
   "outputs": [
    {
     "name": "stdout",
     "output_type": "stream",
     "text": [
      "(712, 5) (179, 5) (712,) (179,)\n"
     ]
    }
   ],
   "source": [
    "training_data_final = featured_data_after_embarked\n",
    "test_data_final = testdat_after_embarked\n",
    "from sklearn.model_selection import train_test_split\n",
    "\n",
    "train_data,test_data,train_labels,test_labels=train_test_split(training_data_final,label,random_state=0,test_size=0.2)\n",
    "print(train_data.shape, test_data.shape, train_labels.shape, test_labels.shape)"
   ]
  },
  {
   "cell_type": "markdown",
   "metadata": {
    "_uuid": "47b87d53d2c7e2152cac74cccc192730753c7889"
   },
   "source": [
    "**Training our model**"
   ]
  },
  {
   "cell_type": "code",
   "execution_count": 19,
   "metadata": {
    "_uuid": "3e34573c60f088ac75dbe62fee6177cf023b5187"
   },
   "outputs": [
    {
     "name": "stdout",
     "output_type": "stream",
     "text": [
      "K= 1\n",
      "0.6703910614525139\n",
      "K= 2\n",
      "0.6871508379888268\n",
      "K= 3\n",
      "0.7039106145251397\n",
      "K= 4\n",
      "0.6983240223463687\n",
      "K= 5\n",
      "0.7318435754189944\n",
      "K= 6\n",
      "0.7150837988826816\n",
      "K= 7\n",
      "0.7430167597765364\n",
      "K= 8\n",
      "0.6983240223463687\n",
      "K= 9\n",
      "0.7318435754189944\n",
      "K= 10\n",
      "0.7374301675977654\n",
      "K= 11\n",
      "0.7318435754189944\n",
      "K= 12\n",
      "0.7262569832402235\n",
      "K= 13\n",
      "0.7262569832402235\n",
      "K= 14\n",
      "0.7206703910614525\n",
      "K= 15\n",
      "0.7318435754189944\n",
      "K= 16\n",
      "0.7039106145251397\n",
      "K= 17\n",
      "0.7374301675977654\n",
      "K= 18\n",
      "0.7262569832402235\n",
      "K= 19\n",
      "0.7374301675977654\n",
      "K= 20\n",
      "0.7374301675977654\n",
      "K= 21\n",
      "0.7597765363128491\n",
      "K= 22\n",
      "0.7486033519553073\n",
      "K= 23\n",
      "0.7541899441340782\n",
      "K= 24\n",
      "0.7430167597765364\n",
      "K= 25\n",
      "0.7597765363128491\n",
      "K= 26\n",
      "0.7430167597765364\n",
      "K= 27\n",
      "0.7541899441340782\n",
      "K= 28\n",
      "0.7541899441340782\n",
      "K= 29\n",
      "0.7597765363128491\n",
      "K= 30\n",
      "0.7541899441340782\n",
      "K= 31\n",
      "0.7541899441340782\n",
      "K= 32\n",
      "0.7541899441340782\n",
      "K= 33\n",
      "0.7653631284916201\n",
      "K= 34\n",
      "0.7597765363128491\n",
      "K= 35\n",
      "0.7653631284916201\n",
      "K= 36\n",
      "0.7541899441340782\n",
      "K= 37\n",
      "0.7374301675977654\n",
      "K= 38\n",
      "0.7541899441340782\n",
      "K= 39\n",
      "0.7541899441340782\n",
      "K= 40\n",
      "0.7486033519553073\n",
      "K= 41\n",
      "0.7486033519553073\n",
      "K= 42\n",
      "0.7486033519553073\n",
      "K= 43\n",
      "0.7374301675977654\n",
      "K= 44\n",
      "0.7430167597765364\n",
      "K= 45\n",
      "0.7318435754189944\n",
      "K= 46\n",
      "0.7486033519553073\n",
      "K= 47\n",
      "0.7486033519553073\n",
      "K= 48\n",
      "0.7486033519553073\n",
      "K= 49\n",
      "0.7486033519553073\n",
      "K= 50\n",
      "0.7318435754189944\n"
     ]
    }
   ],
   "source": [
    "from sklearn.neighbors import KNeighborsClassifier\n",
    "from sklearn.metrics import accuracy_score\n",
    "\n",
    "# compare and select the optimal k value\n",
    "k_range = range(1, 51)\n",
    "k_scores = []\n",
    "for K in k_range:\n",
    "    clf=KNeighborsClassifier(n_neighbors = K)\n",
    "    clf.fit(train_data,train_labels)\n",
    "    print('K=', K)\n",
    "    predictions=clf.predict(test_data)\n",
    "    score = accuracy_score(test_labels,predictions)\n",
    "    print(score)\n",
    "    k_scores.append(score)"
   ]
  },
  {
   "cell_type": "code",
   "execution_count": 20,
   "metadata": {
    "_uuid": "95fb1e538cec089dc6ab6cbdca3d4e44680c8855"
   },
   "outputs": [
    {
     "data": {
      "image/png": "[encoded data removed]",
      "text/plain": [
       "<Figure size 432x288 with 1 Axes>"
      ]
     },
     "metadata": {
      "needs_background": "light"
     },
     "output_type": "display_data"
    },
    {
     "name": "stdout",
     "output_type": "stream",
     "text": [
      "[ 0  1  3  7  2 15  5 13 17 11 12 44 14 49  8 10  4  9 42 36 16 19 18 43\n",
      "  6 25 23 45 48 46 41 21 40 39 47 38 37 31 30 29 27 26 22 35 33 28 20 24\n",
      " 34 32]\n"
     ]
    }
   ],
   "source": [
    "plt.plot(k_range, k_scores)\n",
    "plt.xlabel('K for KNN')\n",
    "plt.ylabel('Accuracy on validation set')\n",
    "plt.show()\n",
    "print(np.array(k_scores).argsort())"
   ]
  },
  {
   "cell_type": "markdown",
   "metadata": {
    "_uuid": "ea7932eb45776b617d5aa7bb0cee2fe28c750296"
   },
   "source": [
    "**Validating our model on test dataset**"
   ]
  },
  {
   "cell_type": "code",
   "execution_count": 21,
   "metadata": {
    "_uuid": "625e4844b783bcd42dc3138586fdeb5ba838cf53"
   },
   "outputs": [
    {
     "name": "stdout",
     "output_type": "stream",
     "text": [
      "[0 0 0 0 0 0 0 0 0 0 0 0 1 0 1 1 0 0 0 0 1 0 1 1 1 0 1 0 0 0 0 1 0 0 1 0 0\n",
      " 0 0 1 0 0 0 0 1 0 0 0 1 0 1 0 0 1 0 0 0 0 0 1 0 1 0 0 1 0 0 0 1 1 0 0 0 0\n",
      " 1 1 0 0 0 0 1 1 0 0 0 0 0 0 0 1 0 0 1 0 0 0 1 0 0 0 1 0 0 0 0 0 0 0 0 0 0\n",
      " 0 0 0 1 0 0 1 1 0 0 0 1 0 0 0 0 0 0 0 0 0 0 0 0 0 0 0 0 1 0 1 1 0 0 0 1 0\n",
      " 0 0 1 0 0 0 0 0 1 0 0 0 0 1 0 0 0 0 0 1 0 0 0 0 0 0 0 0 1 1 0 1 0 1 1 0 1\n",
      " 0 0 0 0 0 0 0 0 0 0 0 1 0 0 0 0 1 1 0 0 0 0 0 1 0 0 0 1 0 0 0 0 1 1 0 1 0\n",
      " 0 0 0 0 0 0 0 0 0 1 0 0 1 0 1 0 0 1 0 0 1 0 0 1 0 0 0 0 1 0 1 0 0 0 0 0 0\n",
      " 0 0 0 0 1 0 0 0 0 0 0 1 0 1 0 0 1 0 0 0 0 0 1 0 1 1 0 0 1 0 0 0 1 0 1 0 0\n",
      " 0 0 1 0 0 0 0 0 0 0 1 1 1 0 0 0 0 0 1 0 1 0 0 1 0 0 0 1 1 0 0 1 0 0 0 0 0\n",
      " 0 0 0 0 0 1 0 0 0 0 1 0 0 0 0 0 0 1 0 1 1 1 0 0 0 0 0 1 0 0 0 1 0 0 0 1 0\n",
      " 0 1 0 0 1 1 0 0 0 0 0 0 0 0 0 1 0 0 0 1 1 0 0 0 0 1 0 1 0 0 1 0 1 0 0 0 0\n",
      " 1 0 1 0 1 0 0 1 0 0 0]\n"
     ]
    }
   ],
   "source": [
    "clf=KNeighborsClassifier(n_neighbors=33)\n",
    "clf.fit(training_data_final,label)\n",
    "result=clf.predict(test_data_final)\n",
    "print(result)"
   ]
  },
  {
   "cell_type": "markdown",
   "metadata": {
    "_uuid": "9dbbd77ef9776d15ed77dc06b4f221a51ed00cd7",
    "collapsed": true
   },
   "source": [
    "**Print out the final submission csv file**"
   ]
  },
  {
   "cell_type": "code",
   "execution_count": 22,
   "metadata": {
    "_uuid": "b4878161feac213714454e06eedaffe30915ad0c"
   },
   "outputs": [],
   "source": [
    "df = pd.DataFrame({\"PassengerId\": testset['PassengerId'],\"Survived\": result})\n",
    "df.to_csv('submissionkernel1.csv',header=True)"
   ]
  }
 ],
 "metadata": {
  "kernelspec": {
   "display_name": "Python 3",
   "language": "python",
   "name": "python3"
  },
  "language_info": {
   "codemirror_mode": {
    "name": "ipython",
    "version": 3
   },
   "file_extension": ".py",
   "mimetype": "text/x-python",
   "name": "python",
   "nbconvert_exporter": "python",
   "pygments_lexer": "ipython3",
   "version": "3.6.6"
  }
 },
 "nbformat": 4,
 "nbformat_minor": 1
}
